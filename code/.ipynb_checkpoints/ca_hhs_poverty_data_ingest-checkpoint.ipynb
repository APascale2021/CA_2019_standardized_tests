{
 "cells": [
  {
   "cell_type": "markdown",
   "metadata": {},
   "source": [
    "# Data ingestion, pt. 2\n",
    "\n",
    "In this workbook, I ingest and clean an additional dataset from the California Department of Public Health on the number of people living below 200% of the Federal Poverty level, per county.\n",
    "\n",
    "In 2018, this level was approximately 12,100 for one person, 16,500 for a two-person household, and 25,100 for a four-person household. Due to California’s high cost of living, the state considers 200\\% of the federal poverty rate to be a more realistic measure of financial hardship.\n",
    "\n",
    "This data was derived from the U.S. Census Bureau American Community Survey, 2011-2015 Selected Population Tables table C17002 (overall poverty), and can be found online at:\n",
    "\n",
    "https://www.cdph.ca.gov/Programs/OHE/Pages/HCI-Search.aspx\n",
    "\n",
    "---"
   ]
  },
  {
   "cell_type": "code",
   "execution_count": 1,
   "metadata": {},
   "outputs": [],
   "source": [
    "import pandas as pd\n",
    "import numpy as np\n",
    "import os"
   ]
  },
  {
   "cell_type": "markdown",
   "metadata": {},
   "source": [
    "To start, I imported the data from a sheet in the Excel file."
   ]
  },
  {
   "cell_type": "code",
   "execution_count": 2,
   "metadata": {},
   "outputs": [],
   "source": [
    "ca_poverty_data = pd.read_excel('../data/ca_hhs_poverty_rate_2011-2015.xlsx', sheet_name = 'Data')"
   ]
  },
  {
   "cell_type": "markdown",
   "metadata": {},
   "source": [
    "Not surprisingly, it contains a lot of extraneous columns."
   ]
  },
  {
   "cell_type": "code",
   "execution_count": 3,
   "metadata": {},
   "outputs": [
    {
     "data": {
      "text/plain": [
       "(32005, 26)"
      ]
     },
     "execution_count": 3,
     "metadata": {},
     "output_type": "execute_result"
    }
   ],
   "source": [
    "ca_poverty_data.shape"
   ]
  },
  {
   "cell_type": "code",
   "execution_count": 4,
   "metadata": {},
   "outputs": [
    {
     "data": {
      "text/plain": [
       "Index(['ind_id', 'ind_definition', 'reportyear', 'race_eth_code',\n",
       "       'race_eth_name', 'geotype', 'geotypevalue', 'geoname', 'county_name',\n",
       "       'county_fips', 'region_name', 'region_code', 'strata_one_code',\n",
       "       'strata_one_name', 'strata_two_code', 'strata_two_name', 'numerator',\n",
       "       'denominator', 'estimate', 'LL_95CI', 'UL_95CI', 'SE', 'RSE',\n",
       "       'CA_decile', 'CA_RR', 'version'],\n",
       "      dtype='object')"
      ]
     },
     "execution_count": 4,
     "metadata": {},
     "output_type": "execute_result"
    }
   ],
   "source": [
    "ca_poverty_data.columns"
   ]
  },
  {
   "cell_type": "markdown",
   "metadata": {},
   "source": [
    "First, I filtered by county-level data ONLY, then dropped a bunch of columns."
   ]
  },
  {
   "cell_type": "code",
   "execution_count": 5,
   "metadata": {},
   "outputs": [],
   "source": [
    "# Filter by county-level data only for the years 2012 - 2016\n",
    "ca_poverty_counties = ca_poverty_data[ca_poverty_data['geotype']=='CO']"
   ]
  },
  {
   "cell_type": "code",
   "execution_count": 6,
   "metadata": {},
   "outputs": [],
   "source": [
    "# Drop unneccessary columns\n",
    "ca_poverty_counties = ca_poverty_counties.drop(['ind_id', 'ind_definition', 'geotype', 'geotypevalue', 'geoname',\n",
    "                                                'county_fips', 'region_name', 'region_code', 'strata_one_code',\n",
    "                                                'strata_one_name', 'strata_two_code', 'strata_two_name', 'version'\n",
    "                                               ], axis = 1)"
   ]
  },
  {
   "cell_type": "markdown",
   "metadata": {},
   "source": [
    "Then, I filtered further by the total of all races and ethnicities, for the 2011-2015 census survey."
   ]
  },
  {
   "cell_type": "code",
   "execution_count": 7,
   "metadata": {},
   "outputs": [],
   "source": [
    "ca_poverty_counties_2015 = ca_poverty_counties[\n",
    "                     (ca_poverty_counties['race_eth_name']=='Total') & #pull total value for all race/ethnicities\n",
    "                     (ca_poverty_counties['reportyear']=='2011-2015') ] #from report year 2011-2015"
   ]
  },
  {
   "cell_type": "code",
   "execution_count": 8,
   "metadata": {},
   "outputs": [],
   "source": [
    "ca_poverty_counties_2015 = ca_poverty_counties_2015.drop(['reportyear',\n",
    "                                                          'race_eth_code', 'race_eth_name',\n",
    "                                                          'CA_decile'], axis = 1)"
   ]
  },
  {
   "cell_type": "markdown",
   "metadata": {},
   "source": [
    "Next, I renamed all the columns for readability and descriptiveness according to the source's data dictionary."
   ]
  },
  {
   "cell_type": "code",
   "execution_count": 9,
   "metadata": {},
   "outputs": [],
   "source": [
    "ca_poverty_counties_2015.columns = ['county', 'below_200pct_poverty', 'total_pop', 'pct_estimate',\n",
    "                                    'lower_bound_95CI', 'upper_bound_95CI', 'st_error', 'rel_error',\n",
    "                                    'pct_above_below_state_est']"
   ]
  },
  {
   "cell_type": "markdown",
   "metadata": {},
   "source": [
    "Finally, I re-indexed the counties in alphabetical order."
   ]
  },
  {
   "cell_type": "code",
   "execution_count": 10,
   "metadata": {},
   "outputs": [],
   "source": [
    "ca_poverty_counties_2015 = ca_poverty_counties_2015.reset_index()\n",
    "ca_poverty_counties_2015 = ca_poverty_counties_2015.drop('index', axis = 1)"
   ]
  },
  {
   "cell_type": "markdown",
   "metadata": {},
   "source": [
    "Luckily, the data is already formatted properly."
   ]
  },
  {
   "cell_type": "code",
   "execution_count": 11,
   "metadata": {},
   "outputs": [
    {
     "data": {
      "text/plain": [
       "county                        object\n",
       "below_200pct_poverty           int64\n",
       "total_pop                      int64\n",
       "pct_estimate                 float64\n",
       "lower_bound_95CI             float64\n",
       "upper_bound_95CI             float64\n",
       "st_error                     float64\n",
       "rel_error                    float64\n",
       "pct_above_below_state_est    float64\n",
       "dtype: object"
      ]
     },
     "execution_count": 11,
     "metadata": {},
     "output_type": "execute_result"
    }
   ],
   "source": [
    "ca_poverty_counties_2015.dtypes"
   ]
  },
  {
   "cell_type": "markdown",
   "metadata": {},
   "source": [
    "Time to save to a new .csv!"
   ]
  },
  {
   "cell_type": "code",
   "execution_count": 12,
   "metadata": {},
   "outputs": [],
   "source": [
    "#ca_poverty_counties_2015.to_csv('../data/ca_poverty_counties_2015.csv')"
   ]
  },
  {
   "cell_type": "code",
   "execution_count": null,
   "metadata": {},
   "outputs": [],
   "source": []
  }
 ],
 "metadata": {
  "kernelspec": {
   "display_name": "Python 3",
   "language": "python",
   "name": "python3"
  },
  "language_info": {
   "codemirror_mode": {
    "name": "ipython",
    "version": 3
   },
   "file_extension": ".py",
   "mimetype": "text/x-python",
   "name": "python",
   "nbconvert_exporter": "python",
   "pygments_lexer": "ipython3",
   "version": "3.8.5"
  }
 },
 "nbformat": 4,
 "nbformat_minor": 4
}
