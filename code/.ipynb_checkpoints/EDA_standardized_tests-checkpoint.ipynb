{
 "cells": [
  {
   "cell_type": "markdown",
   "metadata": {},
   "source": [
    "# Exploratory Data Analysis and Visualization"
   ]
  },
  {
   "cell_type": "markdown",
   "metadata": {},
   "source": [
    "First, we're going to import the pre-processed dataset."
   ]
  },
  {
   "cell_type": "code",
   "execution_count": 1,
   "metadata": {},
   "outputs": [],
   "source": [
    "import pandas as pd\n",
    "import numpy as np\n",
    "import matplotlib.pyplot as plt\n",
    "import seaborn as sns\n",
    "\n",
    "df = pd.read_csv('../data/ca_tests_and_population_merged.csv')\n",
    "df = df.drop('Unnamed: 0', axis = 1)"
   ]
  },
  {
   "cell_type": "markdown",
   "metadata": {},
   "source": [
    "## Part 1: Understanding the Underlying Demographics"
   ]
  },
  {
   "attachments": {},
   "cell_type": "markdown",
   "metadata": {},
   "source": [
    "For a state as geographically and demographically diverse as California, there really is no one-size-fits-all solution to any problem, much less education. And before analyzing the level of college-readiness among high-school seniors, it’s important to understand the population distribution across the state. The overwhelming majority of residents live in suburbs of the mega-cities Los Angeles, San Diego, or San Francisco. On the other side of the state, sparsely populated counties in northern California have maybe a few thousand constituents each. Due to this significant disparity among rural and urban communities, I decided to start with census data on population totals per county."
   ]
  },
  {
   "cell_type": "code",
   "execution_count": 2,
   "metadata": {},
   "outputs": [
    {
     "data": {
      "text/html": [
       "<div>\n",
       "<style scoped>\n",
       "    .dataframe tbody tr th:only-of-type {\n",
       "        vertical-align: middle;\n",
       "    }\n",
       "\n",
       "    .dataframe tbody tr th {\n",
       "        vertical-align: top;\n",
       "    }\n",
       "\n",
       "    .dataframe thead th {\n",
       "        text-align: right;\n",
       "    }\n",
       "</style>\n",
       "<table border=\"1\" class=\"dataframe\">\n",
       "  <thead>\n",
       "    <tr style=\"text-align: right;\">\n",
       "      <th></th>\n",
       "      <th>county</th>\n",
       "      <th>total_pop</th>\n",
       "    </tr>\n",
       "  </thead>\n",
       "  <tbody>\n",
       "    <tr>\n",
       "      <th>18</th>\n",
       "      <td>Los Angeles</td>\n",
       "      <td>9886133</td>\n",
       "    </tr>\n",
       "    <tr>\n",
       "      <th>36</th>\n",
       "      <td>San Diego</td>\n",
       "      <td>3143203</td>\n",
       "    </tr>\n",
       "    <tr>\n",
       "      <th>29</th>\n",
       "      <td>Orange</td>\n",
       "      <td>3078518</td>\n",
       "    </tr>\n",
       "    <tr>\n",
       "      <th>32</th>\n",
       "      <td>Riverside</td>\n",
       "      <td>2262800</td>\n",
       "    </tr>\n",
       "    <tr>\n",
       "      <th>35</th>\n",
       "      <td>San Bernardino</td>\n",
       "      <td>2041779</td>\n",
       "    </tr>\n",
       "    <tr>\n",
       "      <th>42</th>\n",
       "      <td>Santa Clara</td>\n",
       "      <td>1840035</td>\n",
       "    </tr>\n",
       "    <tr>\n",
       "      <th>0</th>\n",
       "      <td>Alameda</td>\n",
       "      <td>1557087</td>\n",
       "    </tr>\n",
       "    <tr>\n",
       "      <th>33</th>\n",
       "      <td>Sacramento</td>\n",
       "      <td>1444720</td>\n",
       "    </tr>\n",
       "    <tr>\n",
       "      <th>6</th>\n",
       "      <td>Contra Costa</td>\n",
       "      <td>1086538</td>\n",
       "    </tr>\n",
       "    <tr>\n",
       "      <th>9</th>\n",
       "      <td>Fresno</td>\n",
       "      <td>939536</td>\n",
       "    </tr>\n",
       "  </tbody>\n",
       "</table>\n",
       "</div>"
      ],
      "text/plain": [
       "            county  total_pop\n",
       "18     Los Angeles    9886133\n",
       "36       San Diego    3143203\n",
       "29          Orange    3078518\n",
       "32       Riverside    2262800\n",
       "35  San Bernardino    2041779\n",
       "42     Santa Clara    1840035\n",
       "0          Alameda    1557087\n",
       "33      Sacramento    1444720\n",
       "6     Contra Costa    1086538\n",
       "9           Fresno     939536"
      ]
     },
     "execution_count": 2,
     "metadata": {},
     "output_type": "execute_result"
    }
   ],
   "source": [
    "# Filter dataframe by county and total population, sorting in descending order by population\n",
    "df[['county', 'total_pop']].sort_values(by='total_pop', ascending=False).head(10)"
   ]
  },
  {
   "cell_type": "markdown",
   "metadata": {},
   "source": [
    "Los Angeles is a clear outlier here. At over 9.8 million residents, it is three times as populous as the next largest county, San Diego. The rest of these counties are mostly in southern California and the Bay Area."
   ]
  },
  {
   "cell_type": "markdown",
   "metadata": {},
   "source": [
    "In fact, I ran a function to calculate the average population of all counties--one including, and one excluding Los Angeles county."
   ]
  },
  {
   "cell_type": "code",
   "execution_count": 3,
   "metadata": {},
   "outputs": [],
   "source": [
    "def avg_of_col(dataSeries):\n",
    "    return round((sum([n for n in dataSeries]) / len(dataSeries)), 2)"
   ]
  },
  {
   "cell_type": "code",
   "execution_count": 4,
   "metadata": {},
   "outputs": [
    {
     "name": "stdout",
     "output_type": "stream",
     "text": [
      "The average population of ALL counties is: 649633.36\n",
      "The average population of ALL counties except L.A. is: 487589.51\n"
     ]
    }
   ],
   "source": [
    "print(f\"The average population of ALL counties is: {avg_of_col(df['total_pop'])}\")\n",
    "print(f\"The average population of ALL counties except L.A. is: {avg_of_col(df.loc[df['county']!='Los Angeles']['total_pop'])}\")"
   ]
  },
  {
   "cell_type": "markdown",
   "metadata": {},
   "source": [
    "Wow! That shifts the mean value by over 150,000 residents! Now let's see which counties are the LEAST populated."
   ]
  },
  {
   "cell_type": "code",
   "execution_count": 5,
   "metadata": {},
   "outputs": [
    {
     "data": {
      "text/html": [
       "<div>\n",
       "<style scoped>\n",
       "    .dataframe tbody tr th:only-of-type {\n",
       "        vertical-align: middle;\n",
       "    }\n",
       "\n",
       "    .dataframe tbody tr th {\n",
       "        vertical-align: top;\n",
       "    }\n",
       "\n",
       "    .dataframe thead th {\n",
       "        text-align: right;\n",
       "    }\n",
       "</style>\n",
       "<table border=\"1\" class=\"dataframe\">\n",
       "  <thead>\n",
       "    <tr style=\"text-align: right;\">\n",
       "      <th></th>\n",
       "      <th>county</th>\n",
       "      <th>total_pop</th>\n",
       "    </tr>\n",
       "  </thead>\n",
       "  <tbody>\n",
       "    <tr>\n",
       "      <th>1</th>\n",
       "      <td>Alpine</td>\n",
       "      <td>1115</td>\n",
       "    </tr>\n",
       "    <tr>\n",
       "      <th>45</th>\n",
       "      <td>Sierra</td>\n",
       "      <td>2991</td>\n",
       "    </tr>\n",
       "    <tr>\n",
       "      <th>24</th>\n",
       "      <td>Modoc</td>\n",
       "      <td>8916</td>\n",
       "    </tr>\n",
       "    <tr>\n",
       "      <th>52</th>\n",
       "      <td>Trinity</td>\n",
       "      <td>13140</td>\n",
       "    </tr>\n",
       "    <tr>\n",
       "      <th>25</th>\n",
       "      <td>Mono</td>\n",
       "      <td>14036</td>\n",
       "    </tr>\n",
       "    <tr>\n",
       "      <th>21</th>\n",
       "      <td>Mariposa</td>\n",
       "      <td>17609</td>\n",
       "    </tr>\n",
       "    <tr>\n",
       "      <th>13</th>\n",
       "      <td>Inyo</td>\n",
       "      <td>17762</td>\n",
       "    </tr>\n",
       "    <tr>\n",
       "      <th>31</th>\n",
       "      <td>Plumas</td>\n",
       "      <td>18571</td>\n",
       "    </tr>\n",
       "    <tr>\n",
       "      <th>5</th>\n",
       "      <td>Colusa</td>\n",
       "      <td>21182</td>\n",
       "    </tr>\n",
       "    <tr>\n",
       "      <th>17</th>\n",
       "      <td>Lassen</td>\n",
       "      <td>21790</td>\n",
       "    </tr>\n",
       "  </tbody>\n",
       "</table>\n",
       "</div>"
      ],
      "text/plain": [
       "      county  total_pop\n",
       "1     Alpine       1115\n",
       "45    Sierra       2991\n",
       "24     Modoc       8916\n",
       "52   Trinity      13140\n",
       "25      Mono      14036\n",
       "21  Mariposa      17609\n",
       "13      Inyo      17762\n",
       "31    Plumas      18571\n",
       "5     Colusa      21182\n",
       "17    Lassen      21790"
      ]
     },
     "execution_count": 5,
     "metadata": {},
     "output_type": "execute_result"
    }
   ],
   "source": [
    "# Filter dataframe by county and total population, sorting in ascending order by population\n",
    "df[['county', 'total_pop']].sort_values(by='total_pop', ascending=True).head(10)"
   ]
  },
  {
   "cell_type": "markdown",
   "metadata": {},
   "source": [
    "The least populated counties have less than 60,000-70,000 residents, and are located mostly in central California along the Nevada border, and in upper California, near the Oregon border. But what does total population have to do with school enrollment?"
   ]
  },
  {
   "cell_type": "code",
   "execution_count": 6,
   "metadata": {},
   "outputs": [
    {
     "data": {
      "image/png": "[encoded data removed]",
      "text/plain": [
       "<Figure size 432x288 with 1 Axes>"
      ]
     },
     "metadata": {
      "needs_background": "light"
     },
     "output_type": "display_data"
    }
   ],
   "source": [
    "df.loc[df['county']!='Los Angeles'].plot.scatter(x='total_pop', y='total_enrollment') #LA county outlier excluded\n",
    "plt.xlim(0, 3_000_000)\n",
    "plt.ylim(0, 45_000)\n",
    "plt.xlabel('Total Population per million')\n",
    "plt.ylabel('Total Student Enrollment')\n",
    "plt.title('Enrollment per CA County Population');"
   ]
  },
  {
   "cell_type": "markdown",
   "metadata": {},
   "source": [
    "As can be expected, there is a positive correlation between each county's population and it's total enrollment of 12th grade students. And at over 114,000 students enrolled in 12th grade in LA County, it was again removed as an outlier."
   ]
  },
  {
   "cell_type": "code",
   "execution_count": 7,
   "metadata": {},
   "outputs": [
    {
     "data": {
      "text/html": [
       "<div>\n",
       "<style scoped>\n",
       "    .dataframe tbody tr th:only-of-type {\n",
       "        vertical-align: middle;\n",
       "    }\n",
       "\n",
       "    .dataframe tbody tr th {\n",
       "        vertical-align: top;\n",
       "    }\n",
       "\n",
       "    .dataframe thead th {\n",
       "        text-align: right;\n",
       "    }\n",
       "</style>\n",
       "<table border=\"1\" class=\"dataframe\">\n",
       "  <thead>\n",
       "    <tr style=\"text-align: right;\">\n",
       "      <th></th>\n",
       "      <th>county</th>\n",
       "      <th>total_enrollment</th>\n",
       "    </tr>\n",
       "  </thead>\n",
       "  <tbody>\n",
       "    <tr>\n",
       "      <th>18</th>\n",
       "      <td>Los Angeles</td>\n",
       "      <td>114618</td>\n",
       "    </tr>\n",
       "  </tbody>\n",
       "</table>\n",
       "</div>"
      ],
      "text/plain": [
       "         county  total_enrollment\n",
       "18  Los Angeles            114618"
      ]
     },
     "execution_count": 7,
     "metadata": {},
     "output_type": "execute_result"
    }
   ],
   "source": [
    "# Show total enrollment of Los Angeles County\n",
    "df.loc[df['county']=='Los Angeles'][['county','total_enrollment']] "
   ]
  },
  {
   "cell_type": "markdown",
   "metadata": {},
   "source": [
    "In fact, let's calculate the average enrollment per region."
   ]
  },
  {
   "cell_type": "code",
   "execution_count": 8,
   "metadata": {},
   "outputs": [
    {
     "data": {
      "text/html": [
       "<div>\n",
       "<style scoped>\n",
       "    .dataframe tbody tr th:only-of-type {\n",
       "        vertical-align: middle;\n",
       "    }\n",
       "\n",
       "    .dataframe tbody tr th {\n",
       "        vertical-align: top;\n",
       "    }\n",
       "\n",
       "    .dataframe thead th {\n",
       "        text-align: right;\n",
       "    }\n",
       "</style>\n",
       "<table border=\"1\" class=\"dataframe\">\n",
       "  <thead>\n",
       "    <tr style=\"text-align: right;\">\n",
       "      <th></th>\n",
       "      <th>total_enrollment</th>\n",
       "    </tr>\n",
       "    <tr>\n",
       "      <th>region</th>\n",
       "      <th></th>\n",
       "    </tr>\n",
       "  </thead>\n",
       "  <tbody>\n",
       "    <tr>\n",
       "      <th>so_cal</th>\n",
       "      <td>30471.000000</td>\n",
       "    </tr>\n",
       "    <tr>\n",
       "      <th>bay_area</th>\n",
       "      <td>10427.142857</td>\n",
       "    </tr>\n",
       "    <tr>\n",
       "      <th>s_valley</th>\n",
       "      <td>7727.600000</td>\n",
       "    </tr>\n",
       "    <tr>\n",
       "      <th>cen_coast</th>\n",
       "      <td>4797.833333</td>\n",
       "    </tr>\n",
       "    <tr>\n",
       "      <th>n_valley</th>\n",
       "      <td>2960.900000</td>\n",
       "    </tr>\n",
       "    <tr>\n",
       "      <th>superior</th>\n",
       "      <td>2466.235294</td>\n",
       "    </tr>\n",
       "    <tr>\n",
       "      <th>n_coast</th>\n",
       "      <td>1532.428571</td>\n",
       "    </tr>\n",
       "  </tbody>\n",
       "</table>\n",
       "</div>"
      ],
      "text/plain": [
       "           total_enrollment\n",
       "region                     \n",
       "so_cal         30471.000000\n",
       "bay_area       10427.142857\n",
       "s_valley        7727.600000\n",
       "cen_coast       4797.833333\n",
       "n_valley        2960.900000\n",
       "superior        2466.235294\n",
       "n_coast         1532.428571"
      ]
     },
     "execution_count": 8,
     "metadata": {},
     "output_type": "execute_result"
    }
   ],
   "source": [
    "# Calculate average county enrollment, per region excluding Los Angeles\n",
    "enrollment_per_region = df.loc[df['county']!='Los Angeles'].groupby(by = 'region')[[\n",
    "    'region', 'county','total_enrollment']].mean()\n",
    "\n",
    "# Sort descending order\n",
    "enrollment_per_region = enrollment_per_region.sort_values(by = 'total_enrollment', ascending = False)\n",
    "enrollment_per_region"
   ]
  },
  {
   "cell_type": "markdown",
   "metadata": {},
   "source": [
    "Southern California and the Bay area definitely have the most students enrolled in 12th grade, at 30,000 and 10,000 student respectively. The Southern Valley is somewhere in the middle around 7,700 students. And the rest of California's counties average less than 5,000 students enrolled."
   ]
  },
  {
   "cell_type": "markdown",
   "metadata": {},
   "source": [
    "Now, let's see if the positive correlation between population and enrollment also affects the number of standardized test takers."
   ]
  },
  {
   "cell_type": "code",
   "execution_count": 9,
   "metadata": {},
   "outputs": [
    {
     "data": {
      "image/png": "[encoded data removed]",
      "text/plain": [
       "<Figure size 432x288 with 1 Axes>"
      ]
     },
     "metadata": {
      "needs_background": "light"
     },
     "output_type": "display_data"
    }
   ],
   "source": [
    "df.loc[df['county']!='Los Angeles'].plot.scatter(x='total_enrollment', y='total_test_takers')\n",
    "plt.xlabel('Total Enrollment per County')\n",
    "plt.ylabel('Total Number of Test Takers')\n",
    "plt.title('Test Takers per County Enrollment');"
   ]
  },
  {
   "cell_type": "markdown",
   "metadata": {},
   "source": [
    "It appears the number of standardized test takers does in fact correlate with the number of students enrolled. But which test is more popular, and where?"
   ]
  },
  {
   "cell_type": "markdown",
   "metadata": {},
   "source": [
    "## Part 2: Comparing the SAT & ACT Tests\n",
    "For this next section, I'll be comparing the participation rates among the two tests per region, as well as investigate whether there are any trends in their respective test scores."
   ]
  },
  {
   "cell_type": "markdown",
   "metadata": {},
   "source": [
    "First, let's rank order each county by total percent of the 12th grade class to take either test."
   ]
  },
  {
   "cell_type": "code",
   "execution_count": 10,
   "metadata": {},
   "outputs": [
    {
     "data": {
      "text/html": [
       "<div>\n",
       "<style scoped>\n",
       "    .dataframe tbody tr th:only-of-type {\n",
       "        vertical-align: middle;\n",
       "    }\n",
       "\n",
       "    .dataframe tbody tr th {\n",
       "        vertical-align: top;\n",
       "    }\n",
       "\n",
       "    .dataframe thead th {\n",
       "        text-align: right;\n",
       "    }\n",
       "</style>\n",
       "<table border=\"1\" class=\"dataframe\">\n",
       "  <thead>\n",
       "    <tr style=\"text-align: right;\">\n",
       "      <th></th>\n",
       "      <th>county</th>\n",
       "      <th>pct_test_takers</th>\n",
       "    </tr>\n",
       "  </thead>\n",
       "  <tbody>\n",
       "    <tr>\n",
       "      <th>24</th>\n",
       "      <td>Modoc</td>\n",
       "      <td>0.816092</td>\n",
       "    </tr>\n",
       "    <tr>\n",
       "      <th>37</th>\n",
       "      <td>San Francisco</td>\n",
       "      <td>0.749719</td>\n",
       "    </tr>\n",
       "    <tr>\n",
       "      <th>20</th>\n",
       "      <td>Marin</td>\n",
       "      <td>0.649037</td>\n",
       "    </tr>\n",
       "    <tr>\n",
       "      <th>40</th>\n",
       "      <td>San Mateo</td>\n",
       "      <td>0.628473</td>\n",
       "    </tr>\n",
       "    <tr>\n",
       "      <th>18</th>\n",
       "      <td>Los Angeles</td>\n",
       "      <td>0.605088</td>\n",
       "    </tr>\n",
       "    <tr>\n",
       "      <th>29</th>\n",
       "      <td>Orange</td>\n",
       "      <td>0.595659</td>\n",
       "    </tr>\n",
       "    <tr>\n",
       "      <th>6</th>\n",
       "      <td>Contra Costa</td>\n",
       "      <td>0.588981</td>\n",
       "    </tr>\n",
       "    <tr>\n",
       "      <th>51</th>\n",
       "      <td>Tehama</td>\n",
       "      <td>0.571221</td>\n",
       "    </tr>\n",
       "    <tr>\n",
       "      <th>55</th>\n",
       "      <td>Ventura</td>\n",
       "      <td>0.566140</td>\n",
       "    </tr>\n",
       "    <tr>\n",
       "      <th>32</th>\n",
       "      <td>Riverside</td>\n",
       "      <td>0.549552</td>\n",
       "    </tr>\n",
       "  </tbody>\n",
       "</table>\n",
       "</div>"
      ],
      "text/plain": [
       "           county  pct_test_takers\n",
       "24          Modoc         0.816092\n",
       "37  San Francisco         0.749719\n",
       "20          Marin         0.649037\n",
       "40      San Mateo         0.628473\n",
       "18    Los Angeles         0.605088\n",
       "29         Orange         0.595659\n",
       "6    Contra Costa         0.588981\n",
       "51         Tehama         0.571221\n",
       "55        Ventura         0.566140\n",
       "32      Riverside         0.549552"
      ]
     },
     "execution_count": 10,
     "metadata": {},
     "output_type": "execute_result"
    }
   ],
   "source": [
    "df[['county', 'pct_test_takers']].sort_values(by ='pct_test_takers', ascending = False).head(10)"
   ]
  },
  {
   "cell_type": "markdown",
   "metadata": {},
   "source": [
    "To no surprise, 8 of the top 10 counties with the best participation (per enrollment) in standardized testing for college prep are suburbs of either San Francisco or Los Angeles."
   ]
  },
  {
   "cell_type": "code",
   "execution_count": 11,
   "metadata": {},
   "outputs": [
    {
     "name": "stdout",
     "output_type": "stream",
     "text": [
      "The average percent participation per enrollment in standardized tests is--\n",
      "\n",
      "For all counties: 41.0%\n",
      "For the Top 10 most populous counties: 53.0%\n",
      "For the Bottom 20 least populous counties: 33.0%\n"
     ]
    }
   ],
   "source": [
    "# Calculate the average for all columns, then Top 10 and Bottom 20 groupings\n",
    "x = avg_of_col(df['pct_test_takers'].dropna())\n",
    "y = avg_of_col(df.loc[df['isTop10']==True]['pct_test_takers'].dropna())\n",
    "z = avg_of_col(df.loc[df['isBottom20']==True]['pct_test_takers'].dropna())\n",
    "\n",
    "print(f\"The average percent participation per enrollment in standardized tests is--\\n\")\n",
    "print(f\"For all counties: {x*100}%\")\n",
    "print(f\"For the Top 10 most populous counties: {y*100}%\")\n",
    "print(f\"For the Bottom 20 least populous counties: {z*100}%\")"
   ]
  },
  {
   "cell_type": "markdown",
   "metadata": {},
   "source": [
    "But which test do students prefer? The SAT or the ACT?"
   ]
  },
  {
   "cell_type": "code",
   "execution_count": 12,
   "metadata": {},
   "outputs": [],
   "source": [
    "# Filter by Top 10 most populous counties, and chart percent taken of both tests\n",
    "pct_Tests = df.loc[df['isTop10']==True][['county','pct_took_SAT','pct_took_ACT']]\n",
    "pct_Tests.set_index('county', drop=True, inplace=True )"
   ]
  },
  {
   "cell_type": "code",
   "execution_count": 13,
   "metadata": {},
   "outputs": [
    {
     "data": {
      "image/png": "[encoded data removed]",
      "text/plain": [
       "<Figure size 432x288 with 1 Axes>"
      ]
     },
     "metadata": {
      "needs_background": "light"
     },
     "output_type": "display_data"
    }
   ],
   "source": [
    "pct_Tests.plot(kind='barh');\n",
    "plt.title('SAT vs. ACT test takers', fontsize=15);\n",
    "plt.xticks();"
   ]
  },
  {
   "cell_type": "markdown",
   "metadata": {},
   "source": [
    "Most counties used a mix of both tests, though the SAT still remains prominent. In fact, only three counties had a higher percentage of students who took the ACT test over the SAT."
   ]
  },
  {
   "cell_type": "code",
   "execution_count": 14,
   "metadata": {},
   "outputs": [
    {
     "data": {
      "text/html": [
       "<div>\n",
       "<style scoped>\n",
       "    .dataframe tbody tr th:only-of-type {\n",
       "        vertical-align: middle;\n",
       "    }\n",
       "\n",
       "    .dataframe tbody tr th {\n",
       "        vertical-align: top;\n",
       "    }\n",
       "\n",
       "    .dataframe thead th {\n",
       "        text-align: right;\n",
       "    }\n",
       "</style>\n",
       "<table border=\"1\" class=\"dataframe\">\n",
       "  <thead>\n",
       "    <tr style=\"text-align: right;\">\n",
       "      <th></th>\n",
       "      <th>county</th>\n",
       "      <th>pct_took_ACT</th>\n",
       "      <th>pct_took_SAT</th>\n",
       "    </tr>\n",
       "  </thead>\n",
       "  <tbody>\n",
       "    <tr>\n",
       "      <th>24</th>\n",
       "      <td>Modoc</td>\n",
       "      <td>0.63</td>\n",
       "      <td>0.18</td>\n",
       "    </tr>\n",
       "    <tr>\n",
       "      <th>51</th>\n",
       "      <td>Tehama</td>\n",
       "      <td>0.44</td>\n",
       "      <td>0.13</td>\n",
       "    </tr>\n",
       "    <tr>\n",
       "      <th>52</th>\n",
       "      <td>Trinity</td>\n",
       "      <td>0.10</td>\n",
       "      <td>0.08</td>\n",
       "    </tr>\n",
       "  </tbody>\n",
       "</table>\n",
       "</div>"
      ],
      "text/plain": [
       "     county  pct_took_ACT  pct_took_SAT\n",
       "24    Modoc          0.63          0.18\n",
       "51   Tehama          0.44          0.13\n",
       "52  Trinity          0.10          0.08"
      ]
     },
     "execution_count": 14,
     "metadata": {},
     "output_type": "execute_result"
    }
   ],
   "source": [
    "df.loc[df['pct_took_ACT'] > df['pct_took_SAT']][['county', 'pct_took_ACT', 'pct_took_SAT']]"
   ]
  },
  {
   "cell_type": "markdown",
   "metadata": {},
   "source": [
    "However, of those students who did choose to take the ACT, their chance of passing a benchmark score was significantly higher."
   ]
  },
  {
   "cell_type": "code",
   "execution_count": 15,
   "metadata": {},
   "outputs": [
    {
     "data": {
      "text/html": [
       "<div>\n",
       "<style scoped>\n",
       "    .dataframe tbody tr th:only-of-type {\n",
       "        vertical-align: middle;\n",
       "    }\n",
       "\n",
       "    .dataframe tbody tr th {\n",
       "        vertical-align: top;\n",
       "    }\n",
       "\n",
       "    .dataframe thead th {\n",
       "        text-align: right;\n",
       "    }\n",
       "</style>\n",
       "<table border=\"1\" class=\"dataframe\">\n",
       "  <thead>\n",
       "    <tr style=\"text-align: right;\">\n",
       "      <th></th>\n",
       "      <th>pct_pass_SAT_Total</th>\n",
       "      <th>pct_pass_ACT_Total</th>\n",
       "    </tr>\n",
       "    <tr>\n",
       "      <th>region</th>\n",
       "      <th></th>\n",
       "      <th></th>\n",
       "    </tr>\n",
       "  </thead>\n",
       "  <tbody>\n",
       "    <tr>\n",
       "      <th>bay_area</th>\n",
       "      <td>58.232857</td>\n",
       "      <td>68.911429</td>\n",
       "    </tr>\n",
       "    <tr>\n",
       "      <th>cen_coast</th>\n",
       "      <td>50.168333</td>\n",
       "      <td>56.693333</td>\n",
       "    </tr>\n",
       "    <tr>\n",
       "      <th>n_coast</th>\n",
       "      <td>48.393333</td>\n",
       "      <td>63.533333</td>\n",
       "    </tr>\n",
       "    <tr>\n",
       "      <th>n_valley</th>\n",
       "      <td>50.683333</td>\n",
       "      <td>60.255556</td>\n",
       "    </tr>\n",
       "    <tr>\n",
       "      <th>s_valley</th>\n",
       "      <td>34.426000</td>\n",
       "      <td>42.322000</td>\n",
       "    </tr>\n",
       "    <tr>\n",
       "      <th>so_cal</th>\n",
       "      <td>42.986667</td>\n",
       "      <td>48.468333</td>\n",
       "    </tr>\n",
       "    <tr>\n",
       "      <th>superior</th>\n",
       "      <td>53.098125</td>\n",
       "      <td>54.429333</td>\n",
       "    </tr>\n",
       "  </tbody>\n",
       "</table>\n",
       "</div>"
      ],
      "text/plain": [
       "           pct_pass_SAT_Total  pct_pass_ACT_Total\n",
       "region                                           \n",
       "bay_area            58.232857           68.911429\n",
       "cen_coast           50.168333           56.693333\n",
       "n_coast             48.393333           63.533333\n",
       "n_valley            50.683333           60.255556\n",
       "s_valley            34.426000           42.322000\n",
       "so_cal              42.986667           48.468333\n",
       "superior            53.098125           54.429333"
      ]
     },
     "execution_count": 15,
     "metadata": {},
     "output_type": "execute_result"
    }
   ],
   "source": [
    "pct_pass_per_region = df.groupby(by = 'region')[['pct_pass_SAT_Total','pct_pass_ACT_Total']].mean()\n",
    "pct_pass_per_region"
   ]
  },
  {
   "cell_type": "markdown",
   "metadata": {},
   "source": [
    "As you can see, the average percent of students who passed a national benchmark on the ACT beat out those who took the SAT in every region--though _overall participation_ rates were lower, per the SAT vs. ACT test-takers chart above. Could this be a result of less competition on scaled scores?"
   ]
  },
  {
   "cell_type": "code",
   "execution_count": 16,
   "metadata": {},
   "outputs": [
    {
     "name": "stdout",
     "output_type": "stream",
     "text": [
      "The region with the HIGHEST % passing the SAT benchmark was 58.23% from the Bay Area\n",
      "The region with the HIGHEST % passing the ACT benchmark was 68.91% from the Bay Area\n",
      "The region with the LOWEST % passing the SAT benchmark was 34.43% from the Southern Valley\n",
      "The region with the LOWEST % passing the ACT benchmark was 42.32% from the Southern Valley\n"
     ]
    }
   ],
   "source": [
    "SAT_max = round(max(pct_pass_per_region['pct_pass_SAT_Total']), 2)\n",
    "ACT_max = round(max(pct_pass_per_region['pct_pass_ACT_Total']), 2)\n",
    "SAT_min = round(min(pct_pass_per_region['pct_pass_SAT_Total']), 2)\n",
    "ACT_min = round(min(pct_pass_per_region['pct_pass_ACT_Total']), 2)\n",
    "\n",
    "print(f\"The region with the HIGHEST % passing the SAT benchmark was {SAT_max}% from the Bay Area\")\n",
    "print(f\"The region with the HIGHEST % passing the ACT benchmark was {ACT_max}% from the Bay Area\")\n",
    "print(f\"The region with the LOWEST % passing the SAT benchmark was {SAT_min}% from the Southern Valley\")\n",
    "print(f\"The region with the LOWEST % passing the ACT benchmark was {ACT_min}% from the Southern Valley\")"
   ]
  },
  {
   "cell_type": "code",
   "execution_count": 17,
   "metadata": {},
   "outputs": [
    {
     "data": {
      "image/png": "[encoded data removed]",
      "text/plain": [
       "<Figure size 432x288 with 1 Axes>"
      ]
     },
     "metadata": {
      "needs_background": "light"
     },
     "output_type": "display_data"
    }
   ],
   "source": [
    "pct_pass_per_region.plot(kind='barh');\n",
    "plt.title('Percent passed SAT & ACT Benchmarks', fontsize=15);\n",
    "plt.xticks();"
   ]
  },
  {
   "cell_type": "markdown",
   "metadata": {},
   "source": [
    "From the chart above, it looks like the Bay Area had the greatest percent of students passing both tests, whereas the Southern Valley had the least. "
   ]
  },
  {
   "cell_type": "markdown",
   "metadata": {},
   "source": [
    "Overall, of those students that took the ACT, they were statistically more likely to pass."
   ]
  },
  {
   "cell_type": "code",
   "execution_count": 18,
   "metadata": {},
   "outputs": [],
   "source": [
    "# Extract a column that evaluates the likelihood test-takers will pass a national benchmark on either test\n",
    "better_chance = df['pct_pass_SAT_Total']>df['pct_pass_ACT_Total']"
   ]
  },
  {
   "cell_type": "code",
   "execution_count": 19,
   "metadata": {},
   "outputs": [],
   "source": [
    "# Define a function to print the winning test\n",
    "def bool_to_test(value):\n",
    "    if value == True:\n",
    "        return 'SAT'\n",
    "    else:\n",
    "        return 'ACT'"
   ]
  },
  {
   "cell_type": "code",
   "execution_count": 20,
   "metadata": {},
   "outputs": [
    {
     "data": {
      "text/plain": [
       "ACT    48\n",
       "SAT    10\n",
       "dtype: int64"
      ]
     },
     "execution_count": 20,
     "metadata": {},
     "output_type": "execute_result"
    }
   ],
   "source": [
    "better_chance.map(bool_to_test).value_counts()"
   ]
  },
  {
   "cell_type": "code",
   "execution_count": 37,
   "metadata": {},
   "outputs": [
    {
     "name": "stdout",
     "output_type": "stream",
     "text": [
      "Across all counties--\n",
      "The average percent enrollment to pass an ACT national benchmark was 56.76%\n",
      "The average percent enrollment to pass an SAT national benchmark was 49.72%\n"
     ]
    }
   ],
   "source": [
    "print(\"Across all counties--\")\n",
    "print(f\"The average percent enrollment to pass an ACT national benchmark was {round(df['pct_pass_ACT_Total'].mean(), 2)}%\")\n",
    "print(f\"The average percent enrollment to pass an SAT national benchmark was {round(df['pct_pass_SAT_Total'].mean(), 2)}%\")"
   ]
  },
  {
   "cell_type": "markdown",
   "metadata": {},
   "source": [
    "Finally, when grouped by the county level, the 2019 standardized testing data showed no correlation between percent participation in testing and the overall chance of passing a national benchmark. These findings varied from those of my classmates at the national level across multiple years, which saw a negative correlation between participation and average scores.\n",
    "\n",
    "To further explore whether or not that correlation exists in California, it might be worth disaggregating the data down to the school district level."
   ]
  },
  {
   "cell_type": "code",
   "execution_count": 21,
   "metadata": {},
   "outputs": [
    {
     "data": {
      "image/png": "[encoded data removed]",
      "text/plain": [
       "<Figure size 432x288 with 1 Axes>"
      ]
     },
     "metadata": {
      "needs_background": "light"
     },
     "output_type": "display_data"
    }
   ],
   "source": [
    "# Removed null values in Alpine county\n",
    "df.loc[df['county']!='Alpine'].plot.scatter(x='pct_took_SAT', y='pct_pass_SAT_Total');"
   ]
  },
  {
   "cell_type": "markdown",
   "metadata": {},
   "source": [
    "As mentioned earlier, the SAT was more commonly taken across all counties, but scores were all over the place."
   ]
  },
  {
   "cell_type": "code",
   "execution_count": 22,
   "metadata": {},
   "outputs": [
    {
     "data": {
      "image/png": "[encoded data removed]",
      "text/plain": [
       "<Figure size 432x288 with 1 Axes>"
      ]
     },
     "metadata": {
      "needs_background": "light"
     },
     "output_type": "display_data"
    }
   ],
   "source": [
    "df.loc[df['county']!='Alpine'].plot.scatter(x='pct_took_ACT', y='pct_pass_ACT_Total');"
   ]
  },
  {
   "cell_type": "markdown",
   "metadata": {},
   "source": [
    "The ACT had much lower participation (around 10-20% for most counties), but was likelier to see an increase in the percentage of students acheiving a passing benchmark."
   ]
  },
  {
   "cell_type": "markdown",
   "metadata": {},
   "source": [
    "---\n",
    "\n",
    "## Part 3: Evaluating the Subjects (Reading/Writing and Math)\n",
    "This part was a bit trickier, as we didn't have the raw scores per subject on the SATs, just the percent that passed the national benchmarks. As such, the relative metrics of the subject tests will be judged independently of each other."
   ]
  },
  {
   "cell_type": "code",
   "execution_count": 23,
   "metadata": {},
   "outputs": [
    {
     "data": {
      "text/html": [
       "<div>\n",
       "<style scoped>\n",
       "    .dataframe tbody tr th:only-of-type {\n",
       "        vertical-align: middle;\n",
       "    }\n",
       "\n",
       "    .dataframe tbody tr th {\n",
       "        vertical-align: top;\n",
       "    }\n",
       "\n",
       "    .dataframe thead th {\n",
       "        text-align: right;\n",
       "    }\n",
       "</style>\n",
       "<table border=\"1\" class=\"dataframe\">\n",
       "  <thead>\n",
       "    <tr style=\"text-align: right;\">\n",
       "      <th></th>\n",
       "      <th>pct_pass_SAT_Math</th>\n",
       "      <th>avg_ACT_Math</th>\n",
       "    </tr>\n",
       "    <tr>\n",
       "      <th>region</th>\n",
       "      <th></th>\n",
       "      <th></th>\n",
       "    </tr>\n",
       "  </thead>\n",
       "  <tbody>\n",
       "    <tr>\n",
       "      <th>bay_area</th>\n",
       "      <td>61.051429</td>\n",
       "      <td>24.000000</td>\n",
       "    </tr>\n",
       "    <tr>\n",
       "      <th>cen_coast</th>\n",
       "      <td>52.505000</td>\n",
       "      <td>22.166667</td>\n",
       "    </tr>\n",
       "    <tr>\n",
       "      <th>n_coast</th>\n",
       "      <td>52.186667</td>\n",
       "      <td>22.166667</td>\n",
       "    </tr>\n",
       "    <tr>\n",
       "      <th>n_valley</th>\n",
       "      <td>52.593333</td>\n",
       "      <td>21.777778</td>\n",
       "    </tr>\n",
       "    <tr>\n",
       "      <th>s_valley</th>\n",
       "      <td>37.234000</td>\n",
       "      <td>19.800000</td>\n",
       "    </tr>\n",
       "    <tr>\n",
       "      <th>so_cal</th>\n",
       "      <td>45.601667</td>\n",
       "      <td>21.166667</td>\n",
       "    </tr>\n",
       "    <tr>\n",
       "      <th>superior</th>\n",
       "      <td>55.130000</td>\n",
       "      <td>21.466667</td>\n",
       "    </tr>\n",
       "  </tbody>\n",
       "</table>\n",
       "</div>"
      ],
      "text/plain": [
       "           pct_pass_SAT_Math  avg_ACT_Math\n",
       "region                                    \n",
       "bay_area           61.051429     24.000000\n",
       "cen_coast          52.505000     22.166667\n",
       "n_coast            52.186667     22.166667\n",
       "n_valley           52.593333     21.777778\n",
       "s_valley           37.234000     19.800000\n",
       "so_cal             45.601667     21.166667\n",
       "superior           55.130000     21.466667"
      ]
     },
     "execution_count": 23,
     "metadata": {},
     "output_type": "execute_result"
    }
   ],
   "source": [
    "math_by_region = df.groupby(by = 'region')[['pct_pass_SAT_Math','avg_ACT_Math']].mean()\n",
    "math_by_region"
   ]
  },
  {
   "cell_type": "markdown",
   "metadata": {},
   "source": [
    "Much like we saw earlier, the Bay Area region has the strongest scores on both tests, and the Southern Valley has the worst."
   ]
  },
  {
   "cell_type": "code",
   "execution_count": 24,
   "metadata": {},
   "outputs": [
    {
     "data": {
      "text/html": [
       "<div>\n",
       "<style scoped>\n",
       "    .dataframe tbody tr th:only-of-type {\n",
       "        vertical-align: middle;\n",
       "    }\n",
       "\n",
       "    .dataframe tbody tr th {\n",
       "        vertical-align: top;\n",
       "    }\n",
       "\n",
       "    .dataframe thead th {\n",
       "        text-align: right;\n",
       "    }\n",
       "</style>\n",
       "<table border=\"1\" class=\"dataframe\">\n",
       "  <thead>\n",
       "    <tr style=\"text-align: right;\">\n",
       "      <th></th>\n",
       "      <th>pct_pass_SAT_ERW</th>\n",
       "      <th>avg_ACT_English</th>\n",
       "      <th>avg_ACT_Reading</th>\n",
       "    </tr>\n",
       "    <tr>\n",
       "      <th>region</th>\n",
       "      <th></th>\n",
       "      <th></th>\n",
       "      <th></th>\n",
       "    </tr>\n",
       "  </thead>\n",
       "  <tbody>\n",
       "    <tr>\n",
       "      <th>bay_area</th>\n",
       "      <td>77.332857</td>\n",
       "      <td>24.285714</td>\n",
       "      <td>24.857143</td>\n",
       "    </tr>\n",
       "    <tr>\n",
       "      <th>cen_coast</th>\n",
       "      <td>73.493333</td>\n",
       "      <td>21.833333</td>\n",
       "      <td>22.666667</td>\n",
       "    </tr>\n",
       "    <tr>\n",
       "      <th>n_coast</th>\n",
       "      <td>76.688333</td>\n",
       "      <td>22.500000</td>\n",
       "      <td>23.500000</td>\n",
       "    </tr>\n",
       "    <tr>\n",
       "      <th>n_valley</th>\n",
       "      <td>77.272222</td>\n",
       "      <td>21.555556</td>\n",
       "      <td>23.222222</td>\n",
       "    </tr>\n",
       "    <tr>\n",
       "      <th>s_valley</th>\n",
       "      <td>61.574000</td>\n",
       "      <td>19.400000</td>\n",
       "      <td>20.600000</td>\n",
       "    </tr>\n",
       "    <tr>\n",
       "      <th>so_cal</th>\n",
       "      <td>68.108333</td>\n",
       "      <td>20.500000</td>\n",
       "      <td>21.500000</td>\n",
       "    </tr>\n",
       "    <tr>\n",
       "      <th>superior</th>\n",
       "      <td>77.359375</td>\n",
       "      <td>20.866667</td>\n",
       "      <td>22.066667</td>\n",
       "    </tr>\n",
       "  </tbody>\n",
       "</table>\n",
       "</div>"
      ],
      "text/plain": [
       "           pct_pass_SAT_ERW  avg_ACT_English  avg_ACT_Reading\n",
       "region                                                       \n",
       "bay_area          77.332857        24.285714        24.857143\n",
       "cen_coast         73.493333        21.833333        22.666667\n",
       "n_coast           76.688333        22.500000        23.500000\n",
       "n_valley          77.272222        21.555556        23.222222\n",
       "s_valley          61.574000        19.400000        20.600000\n",
       "so_cal            68.108333        20.500000        21.500000\n",
       "superior          77.359375        20.866667        22.066667"
      ]
     },
     "execution_count": 24,
     "metadata": {},
     "output_type": "execute_result"
    }
   ],
   "source": [
    "verbal_by_region = df.groupby(by = 'region')[['pct_pass_SAT_ERW','avg_ACT_English', 'avg_ACT_Reading']].mean()\n",
    "verbal_by_region"
   ]
  },
  {
   "cell_type": "markdown",
   "metadata": {},
   "source": [
    "The same trend appears here too as well. Although overall, it appears SAT test takers did much better on Reading & Writing than math. Let's calculate the percent difference between the two series."
   ]
  },
  {
   "cell_type": "code",
   "execution_count": 25,
   "metadata": {},
   "outputs": [
    {
     "data": {
      "text/plain": [
       "region\n",
       "bay_area     26.67\n",
       "cen_coast    39.97\n",
       "n_coast      46.95\n",
       "n_valley     46.92\n",
       "s_valley     65.37\n",
       "so_cal       49.35\n",
       "superior     40.32\n",
       "dtype: float64"
      ]
     },
     "execution_count": 25,
     "metadata": {},
     "output_type": "execute_result"
    }
   ],
   "source": [
    "round((verbal_by_region['pct_pass_SAT_ERW'] - math_by_region['pct_pass_SAT_Math'])/math_by_region['pct_pass_SAT_Math']*100, 2)"
   ]
  },
  {
   "cell_type": "markdown",
   "metadata": {},
   "source": [
    "That's a 20-40% increase in percent passing for the SAT verbal subjects across most regions!"
   ]
  },
  {
   "cell_type": "markdown",
   "metadata": {},
   "source": [
    "Now let's see where some of our worst performers are."
   ]
  },
  {
   "cell_type": "code",
   "execution_count": 26,
   "metadata": {},
   "outputs": [
    {
     "data": {
      "text/html": [
       "<div>\n",
       "<style scoped>\n",
       "    .dataframe tbody tr th:only-of-type {\n",
       "        vertical-align: middle;\n",
       "    }\n",
       "\n",
       "    .dataframe tbody tr th {\n",
       "        vertical-align: top;\n",
       "    }\n",
       "\n",
       "    .dataframe thead th {\n",
       "        text-align: right;\n",
       "    }\n",
       "</style>\n",
       "<table border=\"1\" class=\"dataframe\">\n",
       "  <thead>\n",
       "    <tr style=\"text-align: right;\">\n",
       "      <th></th>\n",
       "      <th>region</th>\n",
       "      <th>county</th>\n",
       "      <th>pct_pass_SAT_Math</th>\n",
       "    </tr>\n",
       "  </thead>\n",
       "  <tbody>\n",
       "    <tr>\n",
       "      <th>5</th>\n",
       "      <td>superior</td>\n",
       "      <td>Colusa</td>\n",
       "      <td>20.27</td>\n",
       "    </tr>\n",
       "    <tr>\n",
       "      <th>10</th>\n",
       "      <td>superior</td>\n",
       "      <td>Glenn</td>\n",
       "      <td>30.00</td>\n",
       "    </tr>\n",
       "    <tr>\n",
       "      <th>19</th>\n",
       "      <td>n_valley</td>\n",
       "      <td>Madera</td>\n",
       "      <td>30.77</td>\n",
       "    </tr>\n",
       "    <tr>\n",
       "      <th>23</th>\n",
       "      <td>n_valley</td>\n",
       "      <td>Merced</td>\n",
       "      <td>31.97</td>\n",
       "    </tr>\n",
       "    <tr>\n",
       "      <th>26</th>\n",
       "      <td>cen_coast</td>\n",
       "      <td>Monterey</td>\n",
       "      <td>34.99</td>\n",
       "    </tr>\n",
       "    <tr>\n",
       "      <th>13</th>\n",
       "      <td>s_valley</td>\n",
       "      <td>Inyo</td>\n",
       "      <td>35.23</td>\n",
       "    </tr>\n",
       "    <tr>\n",
       "      <th>53</th>\n",
       "      <td>s_valley</td>\n",
       "      <td>Tulare</td>\n",
       "      <td>35.54</td>\n",
       "    </tr>\n",
       "    <tr>\n",
       "      <th>17</th>\n",
       "      <td>superior</td>\n",
       "      <td>Lassen</td>\n",
       "      <td>36.07</td>\n",
       "    </tr>\n",
       "    <tr>\n",
       "      <th>32</th>\n",
       "      <td>so_cal</td>\n",
       "      <td>Riverside</td>\n",
       "      <td>36.40</td>\n",
       "    </tr>\n",
       "    <tr>\n",
       "      <th>15</th>\n",
       "      <td>s_valley</td>\n",
       "      <td>Kings</td>\n",
       "      <td>36.57</td>\n",
       "    </tr>\n",
       "  </tbody>\n",
       "</table>\n",
       "</div>"
      ],
      "text/plain": [
       "       region     county  pct_pass_SAT_Math\n",
       "5    superior     Colusa              20.27\n",
       "10   superior      Glenn              30.00\n",
       "19   n_valley     Madera              30.77\n",
       "23   n_valley     Merced              31.97\n",
       "26  cen_coast   Monterey              34.99\n",
       "13   s_valley       Inyo              35.23\n",
       "53   s_valley     Tulare              35.54\n",
       "17   superior     Lassen              36.07\n",
       "32     so_cal  Riverside              36.40\n",
       "15   s_valley      Kings              36.57"
      ]
     },
     "execution_count": 26,
     "metadata": {},
     "output_type": "execute_result"
    }
   ],
   "source": [
    "df.sort_values(by='pct_pass_SAT_Math', ascending = True)[['region', 'county', 'pct_pass_SAT_Math']].head(10)"
   ]
  },
  {
   "cell_type": "markdown",
   "metadata": {},
   "source": [
    "It's interesting to see Riverside ranked the #9 worst county for SAT Math. Let's check their enrollment numbers again:"
   ]
  },
  {
   "cell_type": "code",
   "execution_count": 27,
   "metadata": {},
   "outputs": [
    {
     "data": {
      "text/html": [
       "<div>\n",
       "<style scoped>\n",
       "    .dataframe tbody tr th:only-of-type {\n",
       "        vertical-align: middle;\n",
       "    }\n",
       "\n",
       "    .dataframe tbody tr th {\n",
       "        vertical-align: top;\n",
       "    }\n",
       "\n",
       "    .dataframe thead th {\n",
       "        text-align: right;\n",
       "    }\n",
       "</style>\n",
       "<table border=\"1\" class=\"dataframe\">\n",
       "  <thead>\n",
       "    <tr style=\"text-align: right;\">\n",
       "      <th></th>\n",
       "      <th>total_pop</th>\n",
       "      <th>total_enrollment</th>\n",
       "    </tr>\n",
       "  </thead>\n",
       "  <tbody>\n",
       "    <tr>\n",
       "      <th>32</th>\n",
       "      <td>2262800</td>\n",
       "      <td>34277</td>\n",
       "    </tr>\n",
       "  </tbody>\n",
       "</table>\n",
       "</div>"
      ],
      "text/plain": [
       "    total_pop  total_enrollment\n",
       "32    2262800             34277"
      ]
     },
     "execution_count": 27,
     "metadata": {},
     "output_type": "execute_result"
    }
   ],
   "source": [
    "df.loc[df['county']=='Riverside'][['total_pop', 'total_enrollment']]"
   ]
  },
  {
   "cell_type": "markdown",
   "metadata": {},
   "source": [
    "Yah, over 2.2 million people with a total 12th grade enrollment of over 34,000 students. Definitely an area that needs improvement."
   ]
  },
  {
   "cell_type": "code",
   "execution_count": 28,
   "metadata": {},
   "outputs": [
    {
     "data": {
      "text/html": [
       "<div>\n",
       "<style scoped>\n",
       "    .dataframe tbody tr th:only-of-type {\n",
       "        vertical-align: middle;\n",
       "    }\n",
       "\n",
       "    .dataframe tbody tr th {\n",
       "        vertical-align: top;\n",
       "    }\n",
       "\n",
       "    .dataframe thead th {\n",
       "        text-align: right;\n",
       "    }\n",
       "</style>\n",
       "<table border=\"1\" class=\"dataframe\">\n",
       "  <thead>\n",
       "    <tr style=\"text-align: right;\">\n",
       "      <th></th>\n",
       "      <th>region</th>\n",
       "      <th>county</th>\n",
       "      <th>pct_pass_SAT_ERW</th>\n",
       "    </tr>\n",
       "  </thead>\n",
       "  <tbody>\n",
       "    <tr>\n",
       "      <th>5</th>\n",
       "      <td>superior</td>\n",
       "      <td>Colusa</td>\n",
       "      <td>52.70</td>\n",
       "    </tr>\n",
       "    <tr>\n",
       "      <th>13</th>\n",
       "      <td>s_valley</td>\n",
       "      <td>Inyo</td>\n",
       "      <td>53.41</td>\n",
       "    </tr>\n",
       "    <tr>\n",
       "      <th>26</th>\n",
       "      <td>cen_coast</td>\n",
       "      <td>Monterey</td>\n",
       "      <td>59.46</td>\n",
       "    </tr>\n",
       "    <tr>\n",
       "      <th>32</th>\n",
       "      <td>so_cal</td>\n",
       "      <td>Riverside</td>\n",
       "      <td>60.92</td>\n",
       "    </tr>\n",
       "    <tr>\n",
       "      <th>23</th>\n",
       "      <td>n_valley</td>\n",
       "      <td>Merced</td>\n",
       "      <td>61.51</td>\n",
       "    </tr>\n",
       "    <tr>\n",
       "      <th>14</th>\n",
       "      <td>s_valley</td>\n",
       "      <td>Kern</td>\n",
       "      <td>61.53</td>\n",
       "    </tr>\n",
       "    <tr>\n",
       "      <th>18</th>\n",
       "      <td>so_cal</td>\n",
       "      <td>Los Angeles</td>\n",
       "      <td>61.80</td>\n",
       "    </tr>\n",
       "  </tbody>\n",
       "</table>\n",
       "</div>"
      ],
      "text/plain": [
       "       region       county  pct_pass_SAT_ERW\n",
       "5    superior       Colusa             52.70\n",
       "13   s_valley         Inyo             53.41\n",
       "26  cen_coast     Monterey             59.46\n",
       "32     so_cal    Riverside             60.92\n",
       "23   n_valley       Merced             61.51\n",
       "14   s_valley         Kern             61.53\n",
       "18     so_cal  Los Angeles             61.80"
      ]
     },
     "execution_count": 28,
     "metadata": {},
     "output_type": "execute_result"
    }
   ],
   "source": [
    "df.sort_values(by='pct_pass_SAT_ERW', ascending = True)[['region', 'county', 'pct_pass_SAT_ERW']].head(7)"
   ]
  },
  {
   "cell_type": "markdown",
   "metadata": {},
   "source": [
    "Los Angeles is also near the bottom for SAT Reading/Writing scores. That could be something to work on."
   ]
  },
  {
   "cell_type": "markdown",
   "metadata": {},
   "source": [
    "---\n",
    "\n",
    "# Conclusions & Recommendations"
   ]
  },
  {
   "attachments": {},
   "cell_type": "markdown",
   "metadata": {},
   "source": [
    "Overall, I would recommend the State of California focus on increasing participation in college entrance exams in rural areas, particularly in the Superior and Southern Valley regions. I also would encourage the state to lobby for more testing availability for the ACT, as students in less populous counties had a better chance of success on that test. And finally, while the number of students taking college entrance exams in the Southern California region is high, there were a few specific trouble areas that are worth looking into. In the end, what matters most is that the State of California targets its scarce resources to the right areas most in need as an effective means of improving the college-readiness of graduating seniors."
   ]
  },
  {
   "cell_type": "code",
   "execution_count": null,
   "metadata": {},
   "outputs": [],
   "source": []
  }
 ],
 "metadata": {
  "kernelspec": {
   "display_name": "Python 3",
   "language": "python",
   "name": "python3"
  },
  "language_info": {
   "codemirror_mode": {
    "name": "ipython",
    "version": 3
   },
   "file_extension": ".py",
   "mimetype": "text/x-python",
   "name": "python",
   "nbconvert_exporter": "python",
   "pygments_lexer": "ipython3",
   "version": "3.8.5"
  }
 },
 "nbformat": 4,
 "nbformat_minor": 4
}
