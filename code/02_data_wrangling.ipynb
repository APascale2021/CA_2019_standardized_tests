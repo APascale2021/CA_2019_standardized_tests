{
 "cells": [
  {
   "cell_type": "markdown",
   "metadata": {},
   "source": [
    "# Data ingestion and cleaning\n",
    "In this workbook, I walk through the data ingestion and cleaning processes for both the SAT & ACT test results for the 2018-2019 graudating year in the State of California. Most of the work involved dropping unnecessary columns and fixing formatting errors with numerical values. Since I'm focusing my research on the county level, I could also drop any data connected to specific school districts."
   ]
  },
  {
   "cell_type": "markdown",
   "metadata": {},
   "source": [
    "---\n",
    "## SAT Test Results in California for the 2018-2019 graduating year\n",
    "\n",
    "This first dataset was found on the California Department of Education's website at: http://www3.cde.ca.gov/researchfiles/satactap/sat19.txt"
   ]
  },
  {
   "cell_type": "markdown",
   "metadata": {},
   "source": [
    "To start, we're going to load the 2019 SAT data from California into a DataFrame."
   ]
  },
  {
   "cell_type": "code",
   "execution_count": 1,
   "metadata": {},
   "outputs": [
    {
     "data": {
      "text/html": [
       "<div>\n",
       "<style scoped>\n",
       "    .dataframe tbody tr th:only-of-type {\n",
       "        vertical-align: middle;\n",
       "    }\n",
       "\n",
       "    .dataframe tbody tr th {\n",
       "        vertical-align: top;\n",
       "    }\n",
       "\n",
       "    .dataframe thead th {\n",
       "        text-align: right;\n",
       "    }\n",
       "</style>\n",
       "<table border=\"1\" class=\"dataframe\">\n",
       "  <thead>\n",
       "    <tr style=\"text-align: right;\">\n",
       "      <th></th>\n",
       "      <th>CDS</th>\n",
       "      <th>CCode</th>\n",
       "      <th>CDCode</th>\n",
       "      <th>SCode</th>\n",
       "      <th>RType</th>\n",
       "      <th>SName</th>\n",
       "      <th>DName</th>\n",
       "      <th>CName</th>\n",
       "      <th>Enroll12</th>\n",
       "      <th>NumTSTTakr12</th>\n",
       "      <th>...</th>\n",
       "      <th>NumERWBenchmark11</th>\n",
       "      <th>PctERWBenchmark11</th>\n",
       "      <th>NumMathBenchmark11</th>\n",
       "      <th>PctMathBenchmark11</th>\n",
       "      <th>TotNumBothBenchmark12</th>\n",
       "      <th>PctBothBenchmark12</th>\n",
       "      <th>TotNumBothBenchmark11</th>\n",
       "      <th>PctBothBenchmark11</th>\n",
       "      <th>Year</th>\n",
       "      <th>Unnamed: 25</th>\n",
       "    </tr>\n",
       "  </thead>\n",
       "  <tbody>\n",
       "    <tr>\n",
       "      <th>2575</th>\n",
       "      <td>5.772678e+13</td>\n",
       "      <td>57.0</td>\n",
       "      <td>5772678.0</td>\n",
       "      <td>0.0</td>\n",
       "      <td>D</td>\n",
       "      <td>NaN</td>\n",
       "      <td>Davis Joint Unified</td>\n",
       "      <td>Yolo</td>\n",
       "      <td>717.0</td>\n",
       "      <td>307.0</td>\n",
       "      <td>...</td>\n",
       "      <td>454</td>\n",
       "      <td>95.78</td>\n",
       "      <td>428</td>\n",
       "      <td>90.30</td>\n",
       "      <td>268</td>\n",
       "      <td>87.30</td>\n",
       "      <td>421</td>\n",
       "      <td>88.82</td>\n",
       "      <td>2018-19</td>\n",
       "      <td>NaN</td>\n",
       "    </tr>\n",
       "    <tr>\n",
       "      <th>2576</th>\n",
       "      <td>7.000000e+12</td>\n",
       "      <td>7.0</td>\n",
       "      <td>700000.0</td>\n",
       "      <td>0.0</td>\n",
       "      <td>C</td>\n",
       "      <td>NaN</td>\n",
       "      <td>NaN</td>\n",
       "      <td>Contra Costa</td>\n",
       "      <td>14593.0</td>\n",
       "      <td>5412.0</td>\n",
       "      <td>...</td>\n",
       "      <td>4583</td>\n",
       "      <td>88.87</td>\n",
       "      <td>3933</td>\n",
       "      <td>76.27</td>\n",
       "      <td>2721</td>\n",
       "      <td>50.28</td>\n",
       "      <td>3853</td>\n",
       "      <td>74.71</td>\n",
       "      <td>2018-19</td>\n",
       "      <td>NaN</td>\n",
       "    </tr>\n",
       "    <tr>\n",
       "      <th>2577</th>\n",
       "      <td>1.700000e+13</td>\n",
       "      <td>17.0</td>\n",
       "      <td>1700000.0</td>\n",
       "      <td>0.0</td>\n",
       "      <td>C</td>\n",
       "      <td>NaN</td>\n",
       "      <td>NaN</td>\n",
       "      <td>Lake</td>\n",
       "      <td>667.0</td>\n",
       "      <td>167.0</td>\n",
       "      <td>...</td>\n",
       "      <td>94</td>\n",
       "      <td>74.60</td>\n",
       "      <td>50</td>\n",
       "      <td>39.68</td>\n",
       "      <td>65</td>\n",
       "      <td>38.92</td>\n",
       "      <td>47</td>\n",
       "      <td>37.30</td>\n",
       "      <td>2018-19</td>\n",
       "      <td>NaN</td>\n",
       "    </tr>\n",
       "    <tr>\n",
       "      <th>2578</th>\n",
       "      <td>3.800000e+13</td>\n",
       "      <td>38.0</td>\n",
       "      <td>3800000.0</td>\n",
       "      <td>0.0</td>\n",
       "      <td>C</td>\n",
       "      <td>NaN</td>\n",
       "      <td>NaN</td>\n",
       "      <td>San Francisco</td>\n",
       "      <td>4447.0</td>\n",
       "      <td>2256.0</td>\n",
       "      <td>...</td>\n",
       "      <td>1702</td>\n",
       "      <td>83.35</td>\n",
       "      <td>1566</td>\n",
       "      <td>76.69</td>\n",
       "      <td>1248</td>\n",
       "      <td>55.32</td>\n",
       "      <td>1482</td>\n",
       "      <td>72.58</td>\n",
       "      <td>2018-19</td>\n",
       "      <td>NaN</td>\n",
       "    </tr>\n",
       "    <tr>\n",
       "      <th>2579</th>\n",
       "      <td>NaN</td>\n",
       "      <td>NaN</td>\n",
       "      <td>NaN</td>\n",
       "      <td>NaN</td>\n",
       "      <td>NaN</td>\n",
       "      <td>NaN</td>\n",
       "      <td>NaN</td>\n",
       "      <td>NaN</td>\n",
       "      <td>NaN</td>\n",
       "      <td>NaN</td>\n",
       "      <td>...</td>\n",
       "      <td>NaN</td>\n",
       "      <td>NaN</td>\n",
       "      <td>NaN</td>\n",
       "      <td>NaN</td>\n",
       "      <td>NaN</td>\n",
       "      <td>NaN</td>\n",
       "      <td>NaN</td>\n",
       "      <td>NaN</td>\n",
       "      <td>NaN</td>\n",
       "      <td>NaN</td>\n",
       "    </tr>\n",
       "  </tbody>\n",
       "</table>\n",
       "<p>5 rows × 26 columns</p>\n",
       "</div>"
      ],
      "text/plain": [
       "               CDS  CCode     CDCode  SCode RType SName                DName  \\\n",
       "2575  5.772678e+13   57.0  5772678.0    0.0     D   NaN  Davis Joint Unified   \n",
       "2576  7.000000e+12    7.0   700000.0    0.0     C   NaN                  NaN   \n",
       "2577  1.700000e+13   17.0  1700000.0    0.0     C   NaN                  NaN   \n",
       "2578  3.800000e+13   38.0  3800000.0    0.0     C   NaN                  NaN   \n",
       "2579           NaN    NaN        NaN    NaN   NaN   NaN                  NaN   \n",
       "\n",
       "              CName  Enroll12  NumTSTTakr12  ... NumERWBenchmark11  \\\n",
       "2575           Yolo     717.0         307.0  ...               454   \n",
       "2576   Contra Costa   14593.0        5412.0  ...              4583   \n",
       "2577           Lake     667.0         167.0  ...                94   \n",
       "2578  San Francisco    4447.0        2256.0  ...              1702   \n",
       "2579            NaN       NaN           NaN  ...               NaN   \n",
       "\n",
       "     PctERWBenchmark11 NumMathBenchmark11 PctMathBenchmark11  \\\n",
       "2575             95.78                428              90.30   \n",
       "2576             88.87               3933              76.27   \n",
       "2577             74.60                 50              39.68   \n",
       "2578             83.35               1566              76.69   \n",
       "2579               NaN                NaN                NaN   \n",
       "\n",
       "      TotNumBothBenchmark12  PctBothBenchmark12 TotNumBothBenchmark11  \\\n",
       "2575                    268               87.30                   421   \n",
       "2576                   2721               50.28                  3853   \n",
       "2577                     65               38.92                    47   \n",
       "2578                   1248               55.32                  1482   \n",
       "2579                    NaN                 NaN                   NaN   \n",
       "\n",
       "     PctBothBenchmark11     Year Unnamed: 25  \n",
       "2575              88.82  2018-19         NaN  \n",
       "2576              74.71  2018-19         NaN  \n",
       "2577              37.30  2018-19         NaN  \n",
       "2578              72.58  2018-19         NaN  \n",
       "2579                NaN      NaN         NaN  \n",
       "\n",
       "[5 rows x 26 columns]"
      ]
     },
     "execution_count": 1,
     "metadata": {},
     "output_type": "execute_result"
    }
   ],
   "source": [
    "import pandas as pd\n",
    "import numpy as np\n",
    "\n",
    "sat_2019_ca = pd.read_csv('../data/sat_2019_ca.csv')\n",
    "sat_2019_ca.tail()"
   ]
  },
  {
   "cell_type": "markdown",
   "metadata": {},
   "source": [
    "From looking at the raw data, it was clear there were many extraneous columns here. Here are all the column headers:"
   ]
  },
  {
   "cell_type": "code",
   "execution_count": 2,
   "metadata": {},
   "outputs": [
    {
     "data": {
      "text/plain": [
       "Index(['CDS', 'CCode', 'CDCode', 'SCode', 'RType', 'SName', 'DName', 'CName',\n",
       "       'Enroll12', 'NumTSTTakr12', 'NumERWBenchmark12', 'PctERWBenchmark12',\n",
       "       'NumMathBenchmark12', 'PctMathBenchmark12', 'Enroll11', 'NumTSTTakr11',\n",
       "       'NumERWBenchmark11', 'PctERWBenchmark11', 'NumMathBenchmark11',\n",
       "       'PctMathBenchmark11', 'TotNumBothBenchmark12', 'PctBothBenchmark12',\n",
       "       'TotNumBothBenchmark11', 'PctBothBenchmark11', 'Year', 'Unnamed: 25'],\n",
       "      dtype='object')"
      ]
     },
     "execution_count": 2,
     "metadata": {},
     "output_type": "execute_result"
    }
   ],
   "source": [
    "sat_2019_ca.columns"
   ]
  },
  {
   "cell_type": "markdown",
   "metadata": {},
   "source": [
    "First, I dropped all the internal codes in the first four columns, as well as the dummy `Unnamed` column at the end."
   ]
  },
  {
   "cell_type": "code",
   "execution_count": 3,
   "metadata": {},
   "outputs": [],
   "source": [
    "sat_2019_ca = sat_2019_ca.drop(['CDS', 'CCode','CDCode','SCode','Unnamed: 25'], axis=1)"
   ]
  },
  {
   "cell_type": "markdown",
   "metadata": {},
   "source": [
    "Then, I dropped all data relevant to 11th grade test takers, since the ACT dataset only contains information about 12th grade test takers."
   ]
  },
  {
   "cell_type": "code",
   "execution_count": 4,
   "metadata": {},
   "outputs": [],
   "source": [
    "sat_2019_ca = sat_2019_ca.drop(['Enroll11', 'NumTSTTakr11', 'NumERWBenchmark11', 'PctERWBenchmark11', 'NumMathBenchmark11',\n",
    "       'PctMathBenchmark11', 'TotNumBothBenchmark11', 'PctBothBenchmark11'], axis=1)"
   ]
  },
  {
   "cell_type": "markdown",
   "metadata": {},
   "source": [
    "For the purposes of our research, we're only interested in analyzing data at the County level, so we can filter by `RType == C`. Let's see how many records that gives us: "
   ]
  },
  {
   "cell_type": "code",
   "execution_count": 5,
   "metadata": {},
   "outputs": [
    {
     "data": {
      "text/plain": [
       "(58, 13)"
      ]
     },
     "execution_count": 5,
     "metadata": {},
     "output_type": "execute_result"
    }
   ],
   "source": [
    "sat_2019_ca[sat_2019_ca['RType']=='C'].shape"
   ]
  },
  {
   "cell_type": "markdown",
   "metadata": {},
   "source": [
    "This makes sense, as California has 58 counties. Let's save that filter as a new DataFrame."
   ]
  },
  {
   "cell_type": "code",
   "execution_count": 6,
   "metadata": {},
   "outputs": [
    {
     "data": {
      "text/html": [
       "<div>\n",
       "<style scoped>\n",
       "    .dataframe tbody tr th:only-of-type {\n",
       "        vertical-align: middle;\n",
       "    }\n",
       "\n",
       "    .dataframe tbody tr th {\n",
       "        vertical-align: top;\n",
       "    }\n",
       "\n",
       "    .dataframe thead th {\n",
       "        text-align: right;\n",
       "    }\n",
       "</style>\n",
       "<table border=\"1\" class=\"dataframe\">\n",
       "  <thead>\n",
       "    <tr style=\"text-align: right;\">\n",
       "      <th></th>\n",
       "      <th>RType</th>\n",
       "      <th>SName</th>\n",
       "      <th>DName</th>\n",
       "      <th>CName</th>\n",
       "      <th>Enroll12</th>\n",
       "      <th>NumTSTTakr12</th>\n",
       "      <th>NumERWBenchmark12</th>\n",
       "      <th>PctERWBenchmark12</th>\n",
       "      <th>NumMathBenchmark12</th>\n",
       "      <th>PctMathBenchmark12</th>\n",
       "      <th>TotNumBothBenchmark12</th>\n",
       "      <th>PctBothBenchmark12</th>\n",
       "      <th>Year</th>\n",
       "    </tr>\n",
       "  </thead>\n",
       "  <tbody>\n",
       "    <tr>\n",
       "      <th>1981</th>\n",
       "      <td>C</td>\n",
       "      <td>NaN</td>\n",
       "      <td>NaN</td>\n",
       "      <td>El Dorado</td>\n",
       "      <td>2226.0</td>\n",
       "      <td>604.0</td>\n",
       "      <td>547</td>\n",
       "      <td>90.56</td>\n",
       "      <td>458</td>\n",
       "      <td>75.83</td>\n",
       "      <td>442</td>\n",
       "      <td>73.18</td>\n",
       "      <td>2018-19</td>\n",
       "    </tr>\n",
       "    <tr>\n",
       "      <th>1982</th>\n",
       "      <td>C</td>\n",
       "      <td>NaN</td>\n",
       "      <td>NaN</td>\n",
       "      <td>Los Angeles</td>\n",
       "      <td>114618.0</td>\n",
       "      <td>48676.0</td>\n",
       "      <td>30081</td>\n",
       "      <td>61.80</td>\n",
       "      <td>19791</td>\n",
       "      <td>40.66</td>\n",
       "      <td>18555</td>\n",
       "      <td>38.12</td>\n",
       "      <td>2018-19</td>\n",
       "    </tr>\n",
       "    <tr>\n",
       "      <th>1983</th>\n",
       "      <td>C</td>\n",
       "      <td>NaN</td>\n",
       "      <td>NaN</td>\n",
       "      <td>Madera</td>\n",
       "      <td>2352.0</td>\n",
       "      <td>442.0</td>\n",
       "      <td>277</td>\n",
       "      <td>62.67</td>\n",
       "      <td>136</td>\n",
       "      <td>30.77</td>\n",
       "      <td>127</td>\n",
       "      <td>28.73</td>\n",
       "      <td>2018-19</td>\n",
       "    </tr>\n",
       "    <tr>\n",
       "      <th>1984</th>\n",
       "      <td>C</td>\n",
       "      <td>NaN</td>\n",
       "      <td>NaN</td>\n",
       "      <td>Yolo</td>\n",
       "      <td>2299.0</td>\n",
       "      <td>759.0</td>\n",
       "      <td>586</td>\n",
       "      <td>77.21</td>\n",
       "      <td>464</td>\n",
       "      <td>61.13</td>\n",
       "      <td>443</td>\n",
       "      <td>58.37</td>\n",
       "      <td>2018-19</td>\n",
       "    </tr>\n",
       "    <tr>\n",
       "      <th>1985</th>\n",
       "      <td>C</td>\n",
       "      <td>NaN</td>\n",
       "      <td>NaN</td>\n",
       "      <td>Kern</td>\n",
       "      <td>14229.0</td>\n",
       "      <td>3793.0</td>\n",
       "      <td>2334</td>\n",
       "      <td>61.53</td>\n",
       "      <td>1481</td>\n",
       "      <td>39.05</td>\n",
       "      <td>1364</td>\n",
       "      <td>35.96</td>\n",
       "      <td>2018-19</td>\n",
       "    </tr>\n",
       "  </tbody>\n",
       "</table>\n",
       "</div>"
      ],
      "text/plain": [
       "     RType SName DName        CName  Enroll12  NumTSTTakr12 NumERWBenchmark12  \\\n",
       "1981     C   NaN   NaN    El Dorado    2226.0         604.0               547   \n",
       "1982     C   NaN   NaN  Los Angeles  114618.0       48676.0             30081   \n",
       "1983     C   NaN   NaN       Madera    2352.0         442.0               277   \n",
       "1984     C   NaN   NaN         Yolo    2299.0         759.0               586   \n",
       "1985     C   NaN   NaN         Kern   14229.0        3793.0              2334   \n",
       "\n",
       "     PctERWBenchmark12 NumMathBenchmark12 PctMathBenchmark12  \\\n",
       "1981             90.56                458              75.83   \n",
       "1982             61.80              19791              40.66   \n",
       "1983             62.67                136              30.77   \n",
       "1984             77.21                464              61.13   \n",
       "1985             61.53               1481              39.05   \n",
       "\n",
       "     TotNumBothBenchmark12 PctBothBenchmark12     Year  \n",
       "1981                   442              73.18  2018-19  \n",
       "1982                 18555              38.12  2018-19  \n",
       "1983                   127              28.73  2018-19  \n",
       "1984                   443              58.37  2018-19  \n",
       "1985                  1364              35.96  2018-19  "
      ]
     },
     "execution_count": 6,
     "metadata": {},
     "output_type": "execute_result"
    }
   ],
   "source": [
    "sat_2019_ca_counties = sat_2019_ca[sat_2019_ca['RType']=='C']\n",
    "sat_2019_ca_counties.head()"
   ]
  },
  {
   "cell_type": "markdown",
   "metadata": {},
   "source": [
    "Looks like we'll need to reset the row indices here, so let's do that first. We can also sort by County Name here too."
   ]
  },
  {
   "cell_type": "code",
   "execution_count": 7,
   "metadata": {},
   "outputs": [],
   "source": [
    "sat_2019_ca_counties = sat_2019_ca_counties.sort_values(by='CName')\n",
    "sat_2019_ca_counties = sat_2019_ca_counties.reset_index()"
   ]
  },
  {
   "cell_type": "markdown",
   "metadata": {},
   "source": [
    "Since we're evaluating these numbers at the county level, we can drop the `SName` (School Name) and `DName` (District Name) columns. Finally, we can drop the `Year` column, since the ACT dataset is also for the 2018-2019 School Year."
   ]
  },
  {
   "cell_type": "code",
   "execution_count": 8,
   "metadata": {},
   "outputs": [
    {
     "data": {
      "text/html": [
       "<div>\n",
       "<style scoped>\n",
       "    .dataframe tbody tr th:only-of-type {\n",
       "        vertical-align: middle;\n",
       "    }\n",
       "\n",
       "    .dataframe tbody tr th {\n",
       "        vertical-align: top;\n",
       "    }\n",
       "\n",
       "    .dataframe thead th {\n",
       "        text-align: right;\n",
       "    }\n",
       "</style>\n",
       "<table border=\"1\" class=\"dataframe\">\n",
       "  <thead>\n",
       "    <tr style=\"text-align: right;\">\n",
       "      <th></th>\n",
       "      <th>CName</th>\n",
       "      <th>Enroll12</th>\n",
       "      <th>NumTSTTakr12</th>\n",
       "      <th>NumERWBenchmark12</th>\n",
       "      <th>PctERWBenchmark12</th>\n",
       "      <th>NumMathBenchmark12</th>\n",
       "      <th>PctMathBenchmark12</th>\n",
       "      <th>TotNumBothBenchmark12</th>\n",
       "      <th>PctBothBenchmark12</th>\n",
       "    </tr>\n",
       "  </thead>\n",
       "  <tbody>\n",
       "    <tr>\n",
       "      <th>0</th>\n",
       "      <td>Alameda</td>\n",
       "      <td>17567.0</td>\n",
       "      <td>5946.0</td>\n",
       "      <td>4566</td>\n",
       "      <td>76.79</td>\n",
       "      <td>3623</td>\n",
       "      <td>60.93</td>\n",
       "      <td>3458</td>\n",
       "      <td>58.16</td>\n",
       "    </tr>\n",
       "    <tr>\n",
       "      <th>1</th>\n",
       "      <td>Alpine</td>\n",
       "      <td>0.0</td>\n",
       "      <td>0.0</td>\n",
       "      <td>NaN</td>\n",
       "      <td>NaN</td>\n",
       "      <td>NaN</td>\n",
       "      <td>NaN</td>\n",
       "      <td>NaN</td>\n",
       "      <td>NaN</td>\n",
       "    </tr>\n",
       "    <tr>\n",
       "      <th>2</th>\n",
       "      <td>Amador</td>\n",
       "      <td>305.0</td>\n",
       "      <td>53.0</td>\n",
       "      <td>44</td>\n",
       "      <td>83.02</td>\n",
       "      <td>35</td>\n",
       "      <td>66.04</td>\n",
       "      <td>33</td>\n",
       "      <td>62.26</td>\n",
       "    </tr>\n",
       "    <tr>\n",
       "      <th>3</th>\n",
       "      <td>Butte</td>\n",
       "      <td>2551.0</td>\n",
       "      <td>551.0</td>\n",
       "      <td>453</td>\n",
       "      <td>82.21</td>\n",
       "      <td>349</td>\n",
       "      <td>63.34</td>\n",
       "      <td>332</td>\n",
       "      <td>60.25</td>\n",
       "    </tr>\n",
       "    <tr>\n",
       "      <th>4</th>\n",
       "      <td>Calaveras</td>\n",
       "      <td>451.0</td>\n",
       "      <td>90.0</td>\n",
       "      <td>81</td>\n",
       "      <td>90.00</td>\n",
       "      <td>60</td>\n",
       "      <td>66.67</td>\n",
       "      <td>60</td>\n",
       "      <td>66.67</td>\n",
       "    </tr>\n",
       "  </tbody>\n",
       "</table>\n",
       "</div>"
      ],
      "text/plain": [
       "       CName  Enroll12  NumTSTTakr12 NumERWBenchmark12 PctERWBenchmark12  \\\n",
       "0    Alameda   17567.0        5946.0              4566             76.79   \n",
       "1     Alpine       0.0           0.0               NaN               NaN   \n",
       "2     Amador     305.0          53.0                44             83.02   \n",
       "3      Butte    2551.0         551.0               453             82.21   \n",
       "4  Calaveras     451.0          90.0                81             90.00   \n",
       "\n",
       "  NumMathBenchmark12 PctMathBenchmark12 TotNumBothBenchmark12  \\\n",
       "0               3623              60.93                  3458   \n",
       "1                NaN                NaN                   NaN   \n",
       "2                 35              66.04                    33   \n",
       "3                349              63.34                   332   \n",
       "4                 60              66.67                    60   \n",
       "\n",
       "  PctBothBenchmark12  \n",
       "0              58.16  \n",
       "1                NaN  \n",
       "2              62.26  \n",
       "3              60.25  \n",
       "4              66.67  "
      ]
     },
     "execution_count": 8,
     "metadata": {},
     "output_type": "execute_result"
    }
   ],
   "source": [
    "sat_2019_ca_counties = sat_2019_ca_counties.drop(['index', 'RType', 'SName', 'DName','Year'], axis=1)\n",
    "sat_2019_ca_counties.head()"
   ]
  },
  {
   "cell_type": "markdown",
   "metadata": {},
   "source": [
    "Now let's rename those columns to something more descriptive and readable."
   ]
  },
  {
   "cell_type": "code",
   "execution_count": 9,
   "metadata": {},
   "outputs": [],
   "source": [
    "sat_2019_ca_counties.columns = ['county', 'total_enrollment', 'SAT_test_takers',\n",
    "                                'num_pass_SAT_ERW', 'pct_pass_SAT_ERW',\n",
    "                                'num_pass_SAT_Math', 'pct_pass_SAT_Math',\n",
    "                                'num_pass_SAT_Total', 'pct_pass_SAT_Total']"
   ]
  },
  {
   "cell_type": "code",
   "execution_count": 10,
   "metadata": {},
   "outputs": [
    {
     "data": {
      "text/html": [
       "<div>\n",
       "<style scoped>\n",
       "    .dataframe tbody tr th:only-of-type {\n",
       "        vertical-align: middle;\n",
       "    }\n",
       "\n",
       "    .dataframe tbody tr th {\n",
       "        vertical-align: top;\n",
       "    }\n",
       "\n",
       "    .dataframe thead th {\n",
       "        text-align: right;\n",
       "    }\n",
       "</style>\n",
       "<table border=\"1\" class=\"dataframe\">\n",
       "  <thead>\n",
       "    <tr style=\"text-align: right;\">\n",
       "      <th></th>\n",
       "      <th>county</th>\n",
       "      <th>total_enrollment</th>\n",
       "      <th>SAT_test_takers</th>\n",
       "      <th>num_pass_SAT_ERW</th>\n",
       "      <th>pct_pass_SAT_ERW</th>\n",
       "      <th>num_pass_SAT_Math</th>\n",
       "      <th>pct_pass_SAT_Math</th>\n",
       "      <th>num_pass_SAT_Total</th>\n",
       "      <th>pct_pass_SAT_Total</th>\n",
       "    </tr>\n",
       "  </thead>\n",
       "  <tbody>\n",
       "    <tr>\n",
       "      <th>0</th>\n",
       "      <td>Alameda</td>\n",
       "      <td>17567.0</td>\n",
       "      <td>5946.0</td>\n",
       "      <td>4566</td>\n",
       "      <td>76.79</td>\n",
       "      <td>3623</td>\n",
       "      <td>60.93</td>\n",
       "      <td>3458</td>\n",
       "      <td>58.16</td>\n",
       "    </tr>\n",
       "    <tr>\n",
       "      <th>1</th>\n",
       "      <td>Alpine</td>\n",
       "      <td>0.0</td>\n",
       "      <td>0.0</td>\n",
       "      <td>NaN</td>\n",
       "      <td>NaN</td>\n",
       "      <td>NaN</td>\n",
       "      <td>NaN</td>\n",
       "      <td>NaN</td>\n",
       "      <td>NaN</td>\n",
       "    </tr>\n",
       "    <tr>\n",
       "      <th>2</th>\n",
       "      <td>Amador</td>\n",
       "      <td>305.0</td>\n",
       "      <td>53.0</td>\n",
       "      <td>44</td>\n",
       "      <td>83.02</td>\n",
       "      <td>35</td>\n",
       "      <td>66.04</td>\n",
       "      <td>33</td>\n",
       "      <td>62.26</td>\n",
       "    </tr>\n",
       "    <tr>\n",
       "      <th>3</th>\n",
       "      <td>Butte</td>\n",
       "      <td>2551.0</td>\n",
       "      <td>551.0</td>\n",
       "      <td>453</td>\n",
       "      <td>82.21</td>\n",
       "      <td>349</td>\n",
       "      <td>63.34</td>\n",
       "      <td>332</td>\n",
       "      <td>60.25</td>\n",
       "    </tr>\n",
       "    <tr>\n",
       "      <th>4</th>\n",
       "      <td>Calaveras</td>\n",
       "      <td>451.0</td>\n",
       "      <td>90.0</td>\n",
       "      <td>81</td>\n",
       "      <td>90.00</td>\n",
       "      <td>60</td>\n",
       "      <td>66.67</td>\n",
       "      <td>60</td>\n",
       "      <td>66.67</td>\n",
       "    </tr>\n",
       "  </tbody>\n",
       "</table>\n",
       "</div>"
      ],
      "text/plain": [
       "      county  total_enrollment  SAT_test_takers num_pass_SAT_ERW  \\\n",
       "0    Alameda           17567.0           5946.0             4566   \n",
       "1     Alpine               0.0              0.0              NaN   \n",
       "2     Amador             305.0             53.0               44   \n",
       "3      Butte            2551.0            551.0              453   \n",
       "4  Calaveras             451.0             90.0               81   \n",
       "\n",
       "  pct_pass_SAT_ERW num_pass_SAT_Math pct_pass_SAT_Math num_pass_SAT_Total  \\\n",
       "0            76.79              3623             60.93               3458   \n",
       "1              NaN               NaN               NaN                NaN   \n",
       "2            83.02                35             66.04                 33   \n",
       "3            82.21               349             63.34                332   \n",
       "4            90.00                60             66.67                 60   \n",
       "\n",
       "  pct_pass_SAT_Total  \n",
       "0              58.16  \n",
       "1                NaN  \n",
       "2              62.26  \n",
       "3              60.25  \n",
       "4              66.67  "
      ]
     },
     "execution_count": 10,
     "metadata": {},
     "output_type": "execute_result"
    }
   ],
   "source": [
    "sat_2019_ca_counties.head(5)"
   ]
  },
  {
   "cell_type": "markdown",
   "metadata": {},
   "source": [
    "Almost done with pre-processing this DataFrame! Let's examine the remaining data types:"
   ]
  },
  {
   "cell_type": "code",
   "execution_count": 11,
   "metadata": {},
   "outputs": [
    {
     "data": {
      "text/plain": [
       "county                 object\n",
       "total_enrollment      float64\n",
       "SAT_test_takers       float64\n",
       "num_pass_SAT_ERW       object\n",
       "pct_pass_SAT_ERW       object\n",
       "num_pass_SAT_Math      object\n",
       "pct_pass_SAT_Math      object\n",
       "num_pass_SAT_Total     object\n",
       "pct_pass_SAT_Total     object\n",
       "dtype: object"
      ]
     },
     "execution_count": 11,
     "metadata": {},
     "output_type": "execute_result"
    }
   ],
   "source": [
    "sat_2019_ca_counties.dtypes"
   ]
  },
  {
   "cell_type": "markdown",
   "metadata": {},
   "source": [
    "It appears we have several numbers stored as strings, so we'll need to reformat those columns."
   ]
  },
  {
   "cell_type": "code",
   "execution_count": 12,
   "metadata": {},
   "outputs": [],
   "source": [
    "# Define funtion to map numbers stored as strings to float.\n",
    "# If unidentified character, return NaN\n",
    "def Str_to_float(obj):\n",
    "    if obj == '*':\n",
    "        return np.nan\n",
    "    elif type(obj) == str:\n",
    "        return float(obj)\n",
    "    elif type(obj) == float:\n",
    "        return obj\n",
    "    else:\n",
    "        return np.nan"
   ]
  },
  {
   "cell_type": "code",
   "execution_count": 13,
   "metadata": {},
   "outputs": [
    {
     "name": "stdout",
     "output_type": "stream",
     "text": [
      "num_pass_SAT_ERW\n",
      "pct_pass_SAT_ERW\n",
      "num_pass_SAT_Math\n",
      "pct_pass_SAT_Math\n",
      "num_pass_SAT_Total\n",
      "pct_pass_SAT_Total\n"
     ]
    }
   ],
   "source": [
    "# Map average score columns from strings to floats\n",
    "for row in sat_2019_ca_counties.iloc[:, 3: 9]:\n",
    "    print(row)\n",
    "    sat_2019_ca_counties[row] = sat_2019_ca_counties[row].map(Str_to_float)"
   ]
  },
  {
   "cell_type": "code",
   "execution_count": 14,
   "metadata": {},
   "outputs": [],
   "source": [
    "# Define funtion to map numbers stored as floats to ints\n",
    "# If unidentified character, return NaN\n",
    "def Float_to_int(n):\n",
    "    if type(n) == float:\n",
    "        return int(n)\n",
    "    if type(n) == int:\n",
    "        return n\n",
    "    else:\n",
    "        return np.nan"
   ]
  },
  {
   "cell_type": "code",
   "execution_count": 15,
   "metadata": {},
   "outputs": [
    {
     "name": "stdout",
     "output_type": "stream",
     "text": [
      "total_enrollment\n",
      "SAT_test_takers\n"
     ]
    }
   ],
   "source": [
    "for row in sat_2019_ca_counties.iloc[:, [1, 2]]:\n",
    "    print(row)\n",
    "    sat_2019_ca_counties[row] = sat_2019_ca_counties[row].map(Float_to_int)"
   ]
  },
  {
   "cell_type": "markdown",
   "metadata": {},
   "source": [
    "Let's check that all this reformatting worked:"
   ]
  },
  {
   "cell_type": "code",
   "execution_count": 16,
   "metadata": {},
   "outputs": [
    {
     "data": {
      "text/plain": [
       "county                 object\n",
       "total_enrollment        int64\n",
       "SAT_test_takers         int64\n",
       "num_pass_SAT_ERW      float64\n",
       "pct_pass_SAT_ERW      float64\n",
       "num_pass_SAT_Math     float64\n",
       "pct_pass_SAT_Math     float64\n",
       "num_pass_SAT_Total    float64\n",
       "pct_pass_SAT_Total    float64\n",
       "dtype: object"
      ]
     },
     "execution_count": 16,
     "metadata": {},
     "output_type": "execute_result"
    }
   ],
   "source": [
    "sat_2019_ca_counties.dtypes"
   ]
  },
  {
   "cell_type": "markdown",
   "metadata": {},
   "source": [
    "It might be helpful to add a column that calculates the percent of SAT test-takers per county enrollment."
   ]
  },
  {
   "cell_type": "code",
   "execution_count": 17,
   "metadata": {},
   "outputs": [],
   "source": [
    "sat_2019_ca_counties.insert(3, 'pct_took_SAT',\n",
    "                            round((sat_2019_ca_counties['SAT_test_takers'] / sat_2019_ca_counties['total_enrollment']), 2))"
   ]
  },
  {
   "cell_type": "code",
   "execution_count": 18,
   "metadata": {},
   "outputs": [
    {
     "data": {
      "text/html": [
       "<div>\n",
       "<style scoped>\n",
       "    .dataframe tbody tr th:only-of-type {\n",
       "        vertical-align: middle;\n",
       "    }\n",
       "\n",
       "    .dataframe tbody tr th {\n",
       "        vertical-align: top;\n",
       "    }\n",
       "\n",
       "    .dataframe thead th {\n",
       "        text-align: right;\n",
       "    }\n",
       "</style>\n",
       "<table border=\"1\" class=\"dataframe\">\n",
       "  <thead>\n",
       "    <tr style=\"text-align: right;\">\n",
       "      <th></th>\n",
       "      <th>county</th>\n",
       "      <th>total_enrollment</th>\n",
       "      <th>SAT_test_takers</th>\n",
       "      <th>pct_took_SAT</th>\n",
       "      <th>num_pass_SAT_ERW</th>\n",
       "      <th>pct_pass_SAT_ERW</th>\n",
       "      <th>num_pass_SAT_Math</th>\n",
       "      <th>pct_pass_SAT_Math</th>\n",
       "      <th>num_pass_SAT_Total</th>\n",
       "      <th>pct_pass_SAT_Total</th>\n",
       "    </tr>\n",
       "  </thead>\n",
       "  <tbody>\n",
       "    <tr>\n",
       "      <th>0</th>\n",
       "      <td>Alameda</td>\n",
       "      <td>17567</td>\n",
       "      <td>5946</td>\n",
       "      <td>0.34</td>\n",
       "      <td>4566.0</td>\n",
       "      <td>76.79</td>\n",
       "      <td>3623.0</td>\n",
       "      <td>60.93</td>\n",
       "      <td>3458.0</td>\n",
       "      <td>58.16</td>\n",
       "    </tr>\n",
       "    <tr>\n",
       "      <th>1</th>\n",
       "      <td>Alpine</td>\n",
       "      <td>0</td>\n",
       "      <td>0</td>\n",
       "      <td>NaN</td>\n",
       "      <td>NaN</td>\n",
       "      <td>NaN</td>\n",
       "      <td>NaN</td>\n",
       "      <td>NaN</td>\n",
       "      <td>NaN</td>\n",
       "      <td>NaN</td>\n",
       "    </tr>\n",
       "    <tr>\n",
       "      <th>2</th>\n",
       "      <td>Amador</td>\n",
       "      <td>305</td>\n",
       "      <td>53</td>\n",
       "      <td>0.17</td>\n",
       "      <td>44.0</td>\n",
       "      <td>83.02</td>\n",
       "      <td>35.0</td>\n",
       "      <td>66.04</td>\n",
       "      <td>33.0</td>\n",
       "      <td>62.26</td>\n",
       "    </tr>\n",
       "    <tr>\n",
       "      <th>3</th>\n",
       "      <td>Butte</td>\n",
       "      <td>2551</td>\n",
       "      <td>551</td>\n",
       "      <td>0.22</td>\n",
       "      <td>453.0</td>\n",
       "      <td>82.21</td>\n",
       "      <td>349.0</td>\n",
       "      <td>63.34</td>\n",
       "      <td>332.0</td>\n",
       "      <td>60.25</td>\n",
       "    </tr>\n",
       "    <tr>\n",
       "      <th>4</th>\n",
       "      <td>Calaveras</td>\n",
       "      <td>451</td>\n",
       "      <td>90</td>\n",
       "      <td>0.20</td>\n",
       "      <td>81.0</td>\n",
       "      <td>90.00</td>\n",
       "      <td>60.0</td>\n",
       "      <td>66.67</td>\n",
       "      <td>60.0</td>\n",
       "      <td>66.67</td>\n",
       "    </tr>\n",
       "  </tbody>\n",
       "</table>\n",
       "</div>"
      ],
      "text/plain": [
       "      county  total_enrollment  SAT_test_takers  pct_took_SAT  \\\n",
       "0    Alameda             17567             5946          0.34   \n",
       "1     Alpine                 0                0           NaN   \n",
       "2     Amador               305               53          0.17   \n",
       "3      Butte              2551              551          0.22   \n",
       "4  Calaveras               451               90          0.20   \n",
       "\n",
       "   num_pass_SAT_ERW  pct_pass_SAT_ERW  num_pass_SAT_Math  pct_pass_SAT_Math  \\\n",
       "0            4566.0             76.79             3623.0              60.93   \n",
       "1               NaN               NaN                NaN                NaN   \n",
       "2              44.0             83.02               35.0              66.04   \n",
       "3             453.0             82.21              349.0              63.34   \n",
       "4              81.0             90.00               60.0              66.67   \n",
       "\n",
       "   num_pass_SAT_Total  pct_pass_SAT_Total  \n",
       "0              3458.0               58.16  \n",
       "1                 NaN                 NaN  \n",
       "2                33.0               62.26  \n",
       "3               332.0               60.25  \n",
       "4                60.0               66.67  "
      ]
     },
     "execution_count": 18,
     "metadata": {},
     "output_type": "execute_result"
    }
   ],
   "source": [
    "sat_2019_ca_counties.head()"
   ]
  },
  {
   "cell_type": "markdown",
   "metadata": {},
   "source": [
    "Looks good! On to the next dataset."
   ]
  },
  {
   "cell_type": "markdown",
   "metadata": {},
   "source": [
    "---\n",
    "\n",
    "# ACT Test Results in California for the 2018-2019 graduating year\n",
    "This second dataset was also found on the California Department of Education's website at: http://www3.cde.ca.gov/researchfiles/satactap/act19.txt"
   ]
  },
  {
   "cell_type": "markdown",
   "metadata": {},
   "source": [
    "Again, we'll start by loading the .csv file into a DataFrame."
   ]
  },
  {
   "cell_type": "code",
   "execution_count": 19,
   "metadata": {},
   "outputs": [
    {
     "data": {
      "text/plain": [
       "Index(['CDS', 'CCode', 'CDCode', 'SCode', 'RType', 'SName', 'DName', 'CName',\n",
       "       'Enroll12', 'NumTstTakr', 'AvgScrRead', 'AvgScrEng', 'AvgScrMath',\n",
       "       'AvgScrSci', 'NumGE21', 'PctGE21', 'Year', 'Unnamed: 17'],\n",
       "      dtype='object')"
      ]
     },
     "execution_count": 19,
     "metadata": {},
     "output_type": "execute_result"
    }
   ],
   "source": [
    "act_2019_ca = pd.read_csv('../data/act_2019_ca.csv')\n",
    "act_2019_ca.columns"
   ]
  },
  {
   "cell_type": "markdown",
   "metadata": {},
   "source": [
    "Looks like we've got a lot of the same extraneous columns, so we'll just repeat the data cleaning steps from above."
   ]
  },
  {
   "cell_type": "code",
   "execution_count": 20,
   "metadata": {},
   "outputs": [],
   "source": [
    "# Drop internal code columns\n",
    "act_2019_ca = act_2019_ca.drop(['CDS', 'CCode','CDCode','SCode','Unnamed: 17'], axis=1)\n",
    "\n",
    "# Filter by county level\n",
    "act_2019_ca_counties = act_2019_ca[act_2019_ca['RType']=='C']\n",
    "\n",
    "# Drop School District, School Name, and Year columns\n",
    "act_2019_ca_counties = act_2019_ca_counties.drop(['RType', 'SName', 'DName','Year'], axis=1)"
   ]
  },
  {
   "cell_type": "code",
   "execution_count": 21,
   "metadata": {},
   "outputs": [],
   "source": [
    "# Reset indices and sort by County name\n",
    "act_2019_ca_counties = act_2019_ca_counties.sort_values(by='CName')\n",
    "act_2019_ca_counties = act_2019_ca_counties.reset_index()\n",
    "act_2019_ca_counties = act_2019_ca_counties.drop('index', axis = 1)"
   ]
  },
  {
   "cell_type": "code",
   "execution_count": 22,
   "metadata": {},
   "outputs": [],
   "source": [
    "#Rename column headers\n",
    "act_2019_ca_counties.columns = ['county', 'total_enrollment', 'ACT_test_takers',\n",
    "                                'avg_ACT_Reading', 'avg_ACT_English', 'avg_ACT_Math', 'avg_ACT_Science',\n",
    "                                'num_pass_ACT_Total', 'pct_pass_ACT_Total']"
   ]
  },
  {
   "cell_type": "code",
   "execution_count": 23,
   "metadata": {},
   "outputs": [
    {
     "name": "stdout",
     "output_type": "stream",
     "text": [
      "avg_ACT_Reading\n",
      "avg_ACT_English\n",
      "avg_ACT_Math\n",
      "avg_ACT_Science\n",
      "num_pass_ACT_Total\n",
      "pct_pass_ACT_Total\n"
     ]
    }
   ],
   "source": [
    "# Map average score columns from strings to floats\n",
    "for row in act_2019_ca_counties.iloc[:, 3: 9]:\n",
    "    print(row)\n",
    "    act_2019_ca_counties[row] = act_2019_ca_counties[row].map(Str_to_float)"
   ]
  },
  {
   "cell_type": "code",
   "execution_count": 24,
   "metadata": {},
   "outputs": [
    {
     "name": "stdout",
     "output_type": "stream",
     "text": [
      "total_enrollment\n",
      "ACT_test_takers\n"
     ]
    }
   ],
   "source": [
    "# Map enrollment and test takers columns from floats to ints\n",
    "for row in act_2019_ca_counties.iloc[:, [1, 2]]:\n",
    "    print(row)\n",
    "    act_2019_ca_counties[row] = act_2019_ca_counties[row].map(Float_to_int)"
   ]
  },
  {
   "cell_type": "markdown",
   "metadata": {},
   "source": [
    "Test that the reformatting worked:"
   ]
  },
  {
   "cell_type": "code",
   "execution_count": 25,
   "metadata": {},
   "outputs": [
    {
     "data": {
      "text/plain": [
       "county                 object\n",
       "total_enrollment        int64\n",
       "ACT_test_takers         int64\n",
       "avg_ACT_Reading       float64\n",
       "avg_ACT_English       float64\n",
       "avg_ACT_Math          float64\n",
       "avg_ACT_Science       float64\n",
       "num_pass_ACT_Total    float64\n",
       "pct_pass_ACT_Total    float64\n",
       "dtype: object"
      ]
     },
     "execution_count": 25,
     "metadata": {},
     "output_type": "execute_result"
    }
   ],
   "source": [
    "act_2019_ca_counties.dtypes"
   ]
  },
  {
   "cell_type": "markdown",
   "metadata": {},
   "source": [
    "Finally, let's add that column `Percent Took Test` back into this DataFrame as well:"
   ]
  },
  {
   "cell_type": "code",
   "execution_count": 26,
   "metadata": {},
   "outputs": [],
   "source": [
    "act_2019_ca_counties.insert(3, 'pct_took_ACT',\n",
    "                            round((act_2019_ca_counties['ACT_test_takers'] / act_2019_ca_counties['total_enrollment']), 2))"
   ]
  },
  {
   "cell_type": "code",
   "execution_count": 27,
   "metadata": {},
   "outputs": [
    {
     "data": {
      "text/html": [
       "<div>\n",
       "<style scoped>\n",
       "    .dataframe tbody tr th:only-of-type {\n",
       "        vertical-align: middle;\n",
       "    }\n",
       "\n",
       "    .dataframe tbody tr th {\n",
       "        vertical-align: top;\n",
       "    }\n",
       "\n",
       "    .dataframe thead th {\n",
       "        text-align: right;\n",
       "    }\n",
       "</style>\n",
       "<table border=\"1\" class=\"dataframe\">\n",
       "  <thead>\n",
       "    <tr style=\"text-align: right;\">\n",
       "      <th></th>\n",
       "      <th>county</th>\n",
       "      <th>total_enrollment</th>\n",
       "      <th>ACT_test_takers</th>\n",
       "      <th>pct_took_ACT</th>\n",
       "      <th>avg_ACT_Reading</th>\n",
       "      <th>avg_ACT_English</th>\n",
       "      <th>avg_ACT_Math</th>\n",
       "      <th>avg_ACT_Science</th>\n",
       "      <th>num_pass_ACT_Total</th>\n",
       "      <th>pct_pass_ACT_Total</th>\n",
       "    </tr>\n",
       "  </thead>\n",
       "  <tbody>\n",
       "    <tr>\n",
       "      <th>0</th>\n",
       "      <td>Alameda</td>\n",
       "      <td>17567</td>\n",
       "      <td>3630</td>\n",
       "      <td>0.21</td>\n",
       "      <td>25.0</td>\n",
       "      <td>24.0</td>\n",
       "      <td>24.0</td>\n",
       "      <td>24.0</td>\n",
       "      <td>2459.0</td>\n",
       "      <td>67.74</td>\n",
       "    </tr>\n",
       "    <tr>\n",
       "      <th>1</th>\n",
       "      <td>Alpine</td>\n",
       "      <td>0</td>\n",
       "      <td>0</td>\n",
       "      <td>NaN</td>\n",
       "      <td>NaN</td>\n",
       "      <td>NaN</td>\n",
       "      <td>NaN</td>\n",
       "      <td>NaN</td>\n",
       "      <td>NaN</td>\n",
       "      <td>NaN</td>\n",
       "    </tr>\n",
       "    <tr>\n",
       "      <th>2</th>\n",
       "      <td>Amador</td>\n",
       "      <td>305</td>\n",
       "      <td>37</td>\n",
       "      <td>0.12</td>\n",
       "      <td>24.0</td>\n",
       "      <td>23.0</td>\n",
       "      <td>23.0</td>\n",
       "      <td>22.0</td>\n",
       "      <td>29.0</td>\n",
       "      <td>78.38</td>\n",
       "    </tr>\n",
       "    <tr>\n",
       "      <th>3</th>\n",
       "      <td>Butte</td>\n",
       "      <td>2551</td>\n",
       "      <td>226</td>\n",
       "      <td>0.09</td>\n",
       "      <td>23.0</td>\n",
       "      <td>22.0</td>\n",
       "      <td>23.0</td>\n",
       "      <td>23.0</td>\n",
       "      <td>146.0</td>\n",
       "      <td>64.60</td>\n",
       "    </tr>\n",
       "    <tr>\n",
       "      <th>4</th>\n",
       "      <td>Calaveras</td>\n",
       "      <td>451</td>\n",
       "      <td>31</td>\n",
       "      <td>0.07</td>\n",
       "      <td>26.0</td>\n",
       "      <td>24.0</td>\n",
       "      <td>24.0</td>\n",
       "      <td>24.0</td>\n",
       "      <td>27.0</td>\n",
       "      <td>87.10</td>\n",
       "    </tr>\n",
       "  </tbody>\n",
       "</table>\n",
       "</div>"
      ],
      "text/plain": [
       "      county  total_enrollment  ACT_test_takers  pct_took_ACT  \\\n",
       "0    Alameda             17567             3630          0.21   \n",
       "1     Alpine                 0                0           NaN   \n",
       "2     Amador               305               37          0.12   \n",
       "3      Butte              2551              226          0.09   \n",
       "4  Calaveras               451               31          0.07   \n",
       "\n",
       "   avg_ACT_Reading  avg_ACT_English  avg_ACT_Math  avg_ACT_Science  \\\n",
       "0             25.0             24.0          24.0             24.0   \n",
       "1              NaN              NaN           NaN              NaN   \n",
       "2             24.0             23.0          23.0             22.0   \n",
       "3             23.0             22.0          23.0             23.0   \n",
       "4             26.0             24.0          24.0             24.0   \n",
       "\n",
       "   num_pass_ACT_Total  pct_pass_ACT_Total  \n",
       "0              2459.0               67.74  \n",
       "1                 NaN                 NaN  \n",
       "2                29.0               78.38  \n",
       "3               146.0               64.60  \n",
       "4                27.0               87.10  "
      ]
     },
     "execution_count": 27,
     "metadata": {},
     "output_type": "execute_result"
    }
   ],
   "source": [
    "act_2019_ca_counties.head()"
   ]
  },
  {
   "cell_type": "markdown",
   "metadata": {},
   "source": [
    "We're ready to merge!"
   ]
  },
  {
   "cell_type": "markdown",
   "metadata": {},
   "source": [
    "\n",
    "---\n",
    "\n",
    "# Merging SAT & ACT Test Results\n",
    "In this final section, we'll validate some of the numbers across both datasets, and merge all the columns into one DataFrame before writing it to a .csv"
   ]
  },
  {
   "cell_type": "markdown",
   "metadata": {},
   "source": [
    "First, it appears that `total_enrollment` per county is the same across both the SAT and ACT datasets. Let's double check those numbers match up."
   ]
  },
  {
   "cell_type": "code",
   "execution_count": 28,
   "metadata": {},
   "outputs": [
    {
     "name": "stdout",
     "output_type": "stream",
     "text": [
      "The data matches up perfectly!\n"
     ]
    }
   ],
   "source": [
    "bool_array = []\n",
    "\n",
    "# Test every number in SAT['Enrollment'] against it's corresponding county in ACT['Enrollment']\n",
    "for i, n in enumerate(sat_2019_ca_counties['total_enrollment']):\n",
    "    bool_array.append(n == act_2019_ca_counties['total_enrollment'][i])\n",
    "    \n",
    "if False in bool_array:\n",
    "    print(\"There's an error somewhere.\")\n",
    "else:\n",
    "    print(\"The data matches up perfectly!\")"
   ]
  },
  {
   "cell_type": "markdown",
   "metadata": {},
   "source": [
    "That means we can drop `total_enrollment` from one of the DataFrames."
   ]
  },
  {
   "cell_type": "code",
   "execution_count": 29,
   "metadata": {},
   "outputs": [],
   "source": [
    "act_2019_ca_counties = act_2019_ca_counties.drop('total_enrollment', axis = 1)"
   ]
  },
  {
   "cell_type": "markdown",
   "metadata": {},
   "source": [
    "Time to merge! We'll use an inner join on the `County` column to bring these two datasets together."
   ]
  },
  {
   "cell_type": "code",
   "execution_count": 30,
   "metadata": {},
   "outputs": [],
   "source": [
    "test_results_2019 = pd.merge(sat_2019_ca_counties, act_2019_ca_counties, how='inner', on='county')"
   ]
  },
  {
   "cell_type": "code",
   "execution_count": 31,
   "metadata": {},
   "outputs": [
    {
     "data": {
      "text/plain": [
       "(58, 18)"
      ]
     },
     "execution_count": 31,
     "metadata": {},
     "output_type": "execute_result"
    }
   ],
   "source": [
    "test_results_2019.shape"
   ]
  },
  {
   "cell_type": "code",
   "execution_count": 32,
   "metadata": {},
   "outputs": [
    {
     "data": {
      "text/html": [
       "<div>\n",
       "<style scoped>\n",
       "    .dataframe tbody tr th:only-of-type {\n",
       "        vertical-align: middle;\n",
       "    }\n",
       "\n",
       "    .dataframe tbody tr th {\n",
       "        vertical-align: top;\n",
       "    }\n",
       "\n",
       "    .dataframe thead th {\n",
       "        text-align: right;\n",
       "    }\n",
       "</style>\n",
       "<table border=\"1\" class=\"dataframe\">\n",
       "  <thead>\n",
       "    <tr style=\"text-align: right;\">\n",
       "      <th></th>\n",
       "      <th>total_enrollment</th>\n",
       "      <th>SAT_test_takers</th>\n",
       "      <th>pct_took_SAT</th>\n",
       "      <th>num_pass_SAT_ERW</th>\n",
       "      <th>pct_pass_SAT_ERW</th>\n",
       "      <th>num_pass_SAT_Math</th>\n",
       "      <th>pct_pass_SAT_Math</th>\n",
       "      <th>num_pass_SAT_Total</th>\n",
       "      <th>pct_pass_SAT_Total</th>\n",
       "      <th>ACT_test_takers</th>\n",
       "      <th>pct_took_ACT</th>\n",
       "      <th>avg_ACT_Reading</th>\n",
       "      <th>avg_ACT_English</th>\n",
       "      <th>avg_ACT_Math</th>\n",
       "      <th>avg_ACT_Science</th>\n",
       "      <th>num_pass_ACT_Total</th>\n",
       "      <th>pct_pass_ACT_Total</th>\n",
       "    </tr>\n",
       "  </thead>\n",
       "  <tbody>\n",
       "    <tr>\n",
       "      <th>count</th>\n",
       "      <td>58.000000</td>\n",
       "      <td>58.000000</td>\n",
       "      <td>57.000000</td>\n",
       "      <td>55.000000</td>\n",
       "      <td>55.000000</td>\n",
       "      <td>55.000000</td>\n",
       "      <td>55.000000</td>\n",
       "      <td>55.000000</td>\n",
       "      <td>55.000000</td>\n",
       "      <td>58.000000</td>\n",
       "      <td>57.000000</td>\n",
       "      <td>54.000000</td>\n",
       "      <td>54.000000</td>\n",
       "      <td>54.000000</td>\n",
       "      <td>54.000000</td>\n",
       "      <td>54.000000</td>\n",
       "      <td>54.000000</td>\n",
       "    </tr>\n",
       "    <tr>\n",
       "      <th>mean</th>\n",
       "      <td>8442.241379</td>\n",
       "      <td>2938.120690</td>\n",
       "      <td>0.257719</td>\n",
       "      <td>2117.927273</td>\n",
       "      <td>74.402545</td>\n",
       "      <td>1482.545455</td>\n",
       "      <td>52.194727</td>\n",
       "      <td>1403.036364</td>\n",
       "      <td>49.723091</td>\n",
       "      <td>1425.310345</td>\n",
       "      <td>0.148070</td>\n",
       "      <td>22.648148</td>\n",
       "      <td>21.537037</td>\n",
       "      <td>21.814815</td>\n",
       "      <td>21.722222</td>\n",
       "      <td>841.759259</td>\n",
       "      <td>56.757407</td>\n",
       "    </tr>\n",
       "    <tr>\n",
       "      <th>std</th>\n",
       "      <td>17344.164490</td>\n",
       "      <td>7079.370425</td>\n",
       "      <td>0.088318</td>\n",
       "      <td>4612.155846</td>\n",
       "      <td>9.793826</td>\n",
       "      <td>3131.258301</td>\n",
       "      <td>13.101901</td>\n",
       "      <td>2949.818462</td>\n",
       "      <td>13.253115</td>\n",
       "      <td>3164.257498</td>\n",
       "      <td>0.095869</td>\n",
       "      <td>2.466052</td>\n",
       "      <td>2.589623</td>\n",
       "      <td>2.137483</td>\n",
       "      <td>2.041241</td>\n",
       "      <td>1675.299939</td>\n",
       "      <td>17.189004</td>\n",
       "    </tr>\n",
       "    <tr>\n",
       "      <th>min</th>\n",
       "      <td>0.000000</td>\n",
       "      <td>0.000000</td>\n",
       "      <td>0.080000</td>\n",
       "      <td>12.000000</td>\n",
       "      <td>52.700000</td>\n",
       "      <td>9.000000</td>\n",
       "      <td>20.270000</td>\n",
       "      <td>9.000000</td>\n",
       "      <td>18.920000</td>\n",
       "      <td>0.000000</td>\n",
       "      <td>0.010000</td>\n",
       "      <td>17.000000</td>\n",
       "      <td>15.000000</td>\n",
       "      <td>17.000000</td>\n",
       "      <td>18.000000</td>\n",
       "      <td>8.000000</td>\n",
       "      <td>20.000000</td>\n",
       "    </tr>\n",
       "    <tr>\n",
       "      <th>25%</th>\n",
       "      <td>525.500000</td>\n",
       "      <td>90.250000</td>\n",
       "      <td>0.200000</td>\n",
       "      <td>103.000000</td>\n",
       "      <td>67.080000</td>\n",
       "      <td>65.500000</td>\n",
       "      <td>41.105000</td>\n",
       "      <td>62.500000</td>\n",
       "      <td>38.220000</td>\n",
       "      <td>64.250000</td>\n",
       "      <td>0.090000</td>\n",
       "      <td>21.000000</td>\n",
       "      <td>20.000000</td>\n",
       "      <td>20.000000</td>\n",
       "      <td>20.000000</td>\n",
       "      <td>44.500000</td>\n",
       "      <td>43.560000</td>\n",
       "    </tr>\n",
       "    <tr>\n",
       "      <th>50%</th>\n",
       "      <td>2325.500000</td>\n",
       "      <td>579.500000</td>\n",
       "      <td>0.240000</td>\n",
       "      <td>547.000000</td>\n",
       "      <td>75.390000</td>\n",
       "      <td>382.000000</td>\n",
       "      <td>53.210000</td>\n",
       "      <td>348.000000</td>\n",
       "      <td>50.690000</td>\n",
       "      <td>365.000000</td>\n",
       "      <td>0.140000</td>\n",
       "      <td>23.000000</td>\n",
       "      <td>22.000000</td>\n",
       "      <td>22.000000</td>\n",
       "      <td>22.000000</td>\n",
       "      <td>202.000000</td>\n",
       "      <td>59.775000</td>\n",
       "    </tr>\n",
       "    <tr>\n",
       "      <th>75%</th>\n",
       "      <td>7477.250000</td>\n",
       "      <td>2343.750000</td>\n",
       "      <td>0.320000</td>\n",
       "      <td>2021.500000</td>\n",
       "      <td>82.425000</td>\n",
       "      <td>1438.000000</td>\n",
       "      <td>61.715000</td>\n",
       "      <td>1357.000000</td>\n",
       "      <td>59.825000</td>\n",
       "      <td>1212.250000</td>\n",
       "      <td>0.180000</td>\n",
       "      <td>25.000000</td>\n",
       "      <td>24.000000</td>\n",
       "      <td>23.750000</td>\n",
       "      <td>23.750000</td>\n",
       "      <td>671.250000</td>\n",
       "      <td>71.372500</td>\n",
       "    </tr>\n",
       "    <tr>\n",
       "      <th>max</th>\n",
       "      <td>114618.000000</td>\n",
       "      <td>48676.000000</td>\n",
       "      <td>0.510000</td>\n",
       "      <td>30081.000000</td>\n",
       "      <td>91.670000</td>\n",
       "      <td>19791.000000</td>\n",
       "      <td>75.830000</td>\n",
       "      <td>18555.000000</td>\n",
       "      <td>73.180000</td>\n",
       "      <td>20678.000000</td>\n",
       "      <td>0.630000</td>\n",
       "      <td>27.000000</td>\n",
       "      <td>27.000000</td>\n",
       "      <td>26.000000</td>\n",
       "      <td>26.000000</td>\n",
       "      <td>9182.000000</td>\n",
       "      <td>87.100000</td>\n",
       "    </tr>\n",
       "  </tbody>\n",
       "</table>\n",
       "</div>"
      ],
      "text/plain": [
       "       total_enrollment  SAT_test_takers  pct_took_SAT  num_pass_SAT_ERW  \\\n",
       "count         58.000000        58.000000     57.000000         55.000000   \n",
       "mean        8442.241379      2938.120690      0.257719       2117.927273   \n",
       "std        17344.164490      7079.370425      0.088318       4612.155846   \n",
       "min            0.000000         0.000000      0.080000         12.000000   \n",
       "25%          525.500000        90.250000      0.200000        103.000000   \n",
       "50%         2325.500000       579.500000      0.240000        547.000000   \n",
       "75%         7477.250000      2343.750000      0.320000       2021.500000   \n",
       "max       114618.000000     48676.000000      0.510000      30081.000000   \n",
       "\n",
       "       pct_pass_SAT_ERW  num_pass_SAT_Math  pct_pass_SAT_Math  \\\n",
       "count         55.000000          55.000000          55.000000   \n",
       "mean          74.402545        1482.545455          52.194727   \n",
       "std            9.793826        3131.258301          13.101901   \n",
       "min           52.700000           9.000000          20.270000   \n",
       "25%           67.080000          65.500000          41.105000   \n",
       "50%           75.390000         382.000000          53.210000   \n",
       "75%           82.425000        1438.000000          61.715000   \n",
       "max           91.670000       19791.000000          75.830000   \n",
       "\n",
       "       num_pass_SAT_Total  pct_pass_SAT_Total  ACT_test_takers  pct_took_ACT  \\\n",
       "count           55.000000           55.000000        58.000000     57.000000   \n",
       "mean          1403.036364           49.723091      1425.310345      0.148070   \n",
       "std           2949.818462           13.253115      3164.257498      0.095869   \n",
       "min              9.000000           18.920000         0.000000      0.010000   \n",
       "25%             62.500000           38.220000        64.250000      0.090000   \n",
       "50%            348.000000           50.690000       365.000000      0.140000   \n",
       "75%           1357.000000           59.825000      1212.250000      0.180000   \n",
       "max          18555.000000           73.180000     20678.000000      0.630000   \n",
       "\n",
       "       avg_ACT_Reading  avg_ACT_English  avg_ACT_Math  avg_ACT_Science  \\\n",
       "count        54.000000        54.000000     54.000000        54.000000   \n",
       "mean         22.648148        21.537037     21.814815        21.722222   \n",
       "std           2.466052         2.589623      2.137483         2.041241   \n",
       "min          17.000000        15.000000     17.000000        18.000000   \n",
       "25%          21.000000        20.000000     20.000000        20.000000   \n",
       "50%          23.000000        22.000000     22.000000        22.000000   \n",
       "75%          25.000000        24.000000     23.750000        23.750000   \n",
       "max          27.000000        27.000000     26.000000        26.000000   \n",
       "\n",
       "       num_pass_ACT_Total  pct_pass_ACT_Total  \n",
       "count           54.000000           54.000000  \n",
       "mean           841.759259           56.757407  \n",
       "std           1675.299939           17.189004  \n",
       "min              8.000000           20.000000  \n",
       "25%             44.500000           43.560000  \n",
       "50%            202.000000           59.775000  \n",
       "75%            671.250000           71.372500  \n",
       "max           9182.000000           87.100000  "
      ]
     },
     "execution_count": 32,
     "metadata": {},
     "output_type": "execute_result"
    }
   ],
   "source": [
    "test_results_2019.describe()"
   ]
  },
  {
   "cell_type": "markdown",
   "metadata": {},
   "source": [
    "Looking good! One last additional dataset to bring in."
   ]
  },
  {
   "cell_type": "markdown",
   "metadata": {},
   "source": [
    "---\n",
    "\n",
    "# Adding Census Data on population per county\n",
    "\n",
    "After some outside research, I also decided to use a dataset from the California Department of Public Health on the number of people living below 200% of the Federal Poverty level, per county.\n",
    "\n",
    "In 2018, this level was approximately 12,100 for one person, 16,500 for a two-person household, and 25,100 for a four-person household. Due to California’s high cost of living, the state considers 200\\% of the federal poverty rate to be a more realistic measure of financial hardship.\n",
    "\n",
    "This data was derived from the U.S. Census Bureau American Community Survey, 2011-2015 Selected Population Tables table C17002 (overall poverty), and can be found online at:\n",
    "\n",
    "https://www.cdph.ca.gov/Programs/OHE/Pages/HCI-Search.aspx\n"
   ]
  },
  {
   "cell_type": "code",
   "execution_count": 33,
   "metadata": {},
   "outputs": [
    {
     "data": {
      "text/plain": [
       "(32005, 26)"
      ]
     },
     "execution_count": 33,
     "metadata": {},
     "output_type": "execute_result"
    }
   ],
   "source": [
    "ca_poverty_data = pd.read_excel('../data/ca_hhs_poverty_rate_2011-2015.xlsx', sheet_name = 'Data')\n",
    "ca_poverty_data.shape"
   ]
  },
  {
   "cell_type": "markdown",
   "metadata": {},
   "source": [
    "Not surprisingly, it contains a lot of extraneous columns."
   ]
  },
  {
   "cell_type": "code",
   "execution_count": 34,
   "metadata": {},
   "outputs": [
    {
     "data": {
      "text/plain": [
       "Index(['ind_id', 'ind_definition', 'reportyear', 'race_eth_code',\n",
       "       'race_eth_name', 'geotype', 'geotypevalue', 'geoname', 'county_name',\n",
       "       'county_fips', 'region_name', 'region_code', 'strata_one_code',\n",
       "       'strata_one_name', 'strata_two_code', 'strata_two_name', 'numerator',\n",
       "       'denominator', 'estimate', 'LL_95CI', 'UL_95CI', 'SE', 'RSE',\n",
       "       'CA_decile', 'CA_RR', 'version'],\n",
       "      dtype='object')"
      ]
     },
     "execution_count": 34,
     "metadata": {},
     "output_type": "execute_result"
    }
   ],
   "source": [
    "ca_poverty_data.columns"
   ]
  },
  {
   "cell_type": "markdown",
   "metadata": {},
   "source": [
    "First, I filtered by county-level data ONLY, then dropped a bunch of columns."
   ]
  },
  {
   "cell_type": "code",
   "execution_count": 35,
   "metadata": {},
   "outputs": [],
   "source": [
    "# Filter by county-level data only for the years 2012 - 2016\n",
    "ca_poverty_counties = ca_poverty_data[ca_poverty_data['geotype']=='CO']"
   ]
  },
  {
   "cell_type": "code",
   "execution_count": 36,
   "metadata": {},
   "outputs": [],
   "source": [
    "# Drop unneccessary columns\n",
    "ca_poverty_counties = ca_poverty_counties.drop(['ind_id', 'ind_definition', 'geotype', 'geotypevalue', 'geoname',\n",
    "                                                'county_fips', 'region_name', 'region_code', 'strata_one_code',\n",
    "                                                'strata_one_name', 'strata_two_code', 'strata_two_name', 'version'\n",
    "                                               ], axis = 1)"
   ]
  },
  {
   "cell_type": "markdown",
   "metadata": {},
   "source": [
    "Then, I filtered further by the total of all races and ethnicities, for the 2011-2015 census survey"
   ]
  },
  {
   "cell_type": "code",
   "execution_count": 37,
   "metadata": {},
   "outputs": [],
   "source": [
    "ca_poverty_counties_2015 = ca_poverty_counties[\n",
    "                     (ca_poverty_counties['race_eth_name']=='Total') & #pull total value for all race/ethnicities\n",
    "                     (ca_poverty_counties['reportyear']=='2011-2015') ] #from report year 2011-2015"
   ]
  },
  {
   "cell_type": "code",
   "execution_count": 38,
   "metadata": {},
   "outputs": [],
   "source": [
    "ca_poverty_counties_2015 = ca_poverty_counties_2015.drop(['reportyear',\n",
    "                                                          'race_eth_code', 'race_eth_name',\n",
    "                                                          'CA_decile'], axis = 1)"
   ]
  },
  {
   "cell_type": "markdown",
   "metadata": {},
   "source": [
    "Next, I renamed all the columns for readability and descriptiveness according to the source's data dictionary."
   ]
  },
  {
   "cell_type": "code",
   "execution_count": 39,
   "metadata": {},
   "outputs": [],
   "source": [
    "ca_poverty_counties_2015.columns = ['county', 'below_200pct_poverty', 'total_pop', 'pct_estimate',\n",
    "                                    'lower_bound_95CI', 'upper_bound_95CI', 'st_error', 'rel_error',\n",
    "                                    'pct_above_below_state_est']"
   ]
  },
  {
   "cell_type": "markdown",
   "metadata": {},
   "source": [
    "Finally, I re-indexed the counties in alphabetical order."
   ]
  },
  {
   "cell_type": "code",
   "execution_count": 40,
   "metadata": {},
   "outputs": [],
   "source": [
    "ca_poverty_counties_2015 = ca_poverty_counties_2015.reset_index()\n",
    "ca_poverty_counties_2015 = ca_poverty_counties_2015.drop('index', axis = 1)"
   ]
  },
  {
   "cell_type": "markdown",
   "metadata": {},
   "source": [
    "Luckily, the data is already formatted properly."
   ]
  },
  {
   "cell_type": "code",
   "execution_count": 41,
   "metadata": {},
   "outputs": [
    {
     "data": {
      "text/plain": [
       "county                        object\n",
       "below_200pct_poverty           int64\n",
       "total_pop                      int64\n",
       "pct_estimate                 float64\n",
       "lower_bound_95CI             float64\n",
       "upper_bound_95CI             float64\n",
       "st_error                     float64\n",
       "rel_error                    float64\n",
       "pct_above_below_state_est    float64\n",
       "dtype: object"
      ]
     },
     "execution_count": 41,
     "metadata": {},
     "output_type": "execute_result"
    }
   ],
   "source": [
    "ca_poverty_counties_2015.dtypes"
   ]
  },
  {
   "cell_type": "markdown",
   "metadata": {},
   "source": [
    "Time to do one final merge!"
   ]
  },
  {
   "cell_type": "code",
   "execution_count": 42,
   "metadata": {},
   "outputs": [],
   "source": [
    "# Generate DataFrame with select population statistics, per County\n",
    "df = ca_poverty_counties_2015[['county', 'total_pop', 'below_200pct_poverty',\n",
    "                               'pct_estimate', 'pct_above_below_state_est']]\n",
    "\n",
    "# Merge standardized tests DataFrame with population\n",
    "ca_tests_and_population_merged = pd.merge(test_results_2019, df, how='inner', on='county')"
   ]
  },
  {
   "cell_type": "code",
   "execution_count": 43,
   "metadata": {},
   "outputs": [],
   "source": [
    "ca_tests_and_population_merged = ca_tests_and_population_merged[['county', 'total_pop', 'below_200pct_poverty',\n",
    "                                'pct_estimate', 'pct_above_below_state_est', 'total_enrollment',\n",
    "                                'SAT_test_takers', 'pct_took_SAT', 'ACT_test_takers', 'pct_took_ACT',\n",
    "                                'num_pass_SAT_Total', 'pct_pass_SAT_Total', 'num_pass_ACT_Total', 'pct_pass_ACT_Total',\n",
    "                                'num_pass_SAT_ERW', 'pct_pass_SAT_ERW', 'avg_ACT_Reading', 'avg_ACT_English',\n",
    "                                'num_pass_SAT_Math', 'pct_pass_SAT_Math', 'avg_ACT_Math'\n",
    "                                ]]"
   ]
  },
  {
   "cell_type": "code",
   "execution_count": 44,
   "metadata": {},
   "outputs": [
    {
     "data": {
      "text/html": [
       "<div>\n",
       "<style scoped>\n",
       "    .dataframe tbody tr th:only-of-type {\n",
       "        vertical-align: middle;\n",
       "    }\n",
       "\n",
       "    .dataframe tbody tr th {\n",
       "        vertical-align: top;\n",
       "    }\n",
       "\n",
       "    .dataframe thead th {\n",
       "        text-align: right;\n",
       "    }\n",
       "</style>\n",
       "<table border=\"1\" class=\"dataframe\">\n",
       "  <thead>\n",
       "    <tr style=\"text-align: right;\">\n",
       "      <th></th>\n",
       "      <th>county</th>\n",
       "      <th>total_pop</th>\n",
       "      <th>below_200pct_poverty</th>\n",
       "      <th>pct_estimate</th>\n",
       "      <th>pct_above_below_state_est</th>\n",
       "      <th>total_enrollment</th>\n",
       "      <th>SAT_test_takers</th>\n",
       "      <th>pct_took_SAT</th>\n",
       "      <th>ACT_test_takers</th>\n",
       "      <th>pct_took_ACT</th>\n",
       "      <th>...</th>\n",
       "      <th>pct_pass_SAT_Total</th>\n",
       "      <th>num_pass_ACT_Total</th>\n",
       "      <th>pct_pass_ACT_Total</th>\n",
       "      <th>num_pass_SAT_ERW</th>\n",
       "      <th>pct_pass_SAT_ERW</th>\n",
       "      <th>avg_ACT_Reading</th>\n",
       "      <th>avg_ACT_English</th>\n",
       "      <th>num_pass_SAT_Math</th>\n",
       "      <th>pct_pass_SAT_Math</th>\n",
       "      <th>avg_ACT_Math</th>\n",
       "    </tr>\n",
       "  </thead>\n",
       "  <tbody>\n",
       "    <tr>\n",
       "      <th>0</th>\n",
       "      <td>Alameda</td>\n",
       "      <td>1557087</td>\n",
       "      <td>427064</td>\n",
       "      <td>27.427112</td>\n",
       "      <td>0.759022</td>\n",
       "      <td>17567</td>\n",
       "      <td>5946</td>\n",
       "      <td>0.34</td>\n",
       "      <td>3630</td>\n",
       "      <td>0.21</td>\n",
       "      <td>...</td>\n",
       "      <td>58.16</td>\n",
       "      <td>2459.0</td>\n",
       "      <td>67.74</td>\n",
       "      <td>4566.0</td>\n",
       "      <td>76.79</td>\n",
       "      <td>25.0</td>\n",
       "      <td>24.0</td>\n",
       "      <td>3623.0</td>\n",
       "      <td>60.93</td>\n",
       "      <td>24.0</td>\n",
       "    </tr>\n",
       "    <tr>\n",
       "      <th>1</th>\n",
       "      <td>Alpine</td>\n",
       "      <td>1115</td>\n",
       "      <td>442</td>\n",
       "      <td>39.641256</td>\n",
       "      <td>1.097037</td>\n",
       "      <td>0</td>\n",
       "      <td>0</td>\n",
       "      <td>NaN</td>\n",
       "      <td>0</td>\n",
       "      <td>NaN</td>\n",
       "      <td>...</td>\n",
       "      <td>NaN</td>\n",
       "      <td>NaN</td>\n",
       "      <td>NaN</td>\n",
       "      <td>NaN</td>\n",
       "      <td>NaN</td>\n",
       "      <td>NaN</td>\n",
       "      <td>NaN</td>\n",
       "      <td>NaN</td>\n",
       "      <td>NaN</td>\n",
       "      <td>NaN</td>\n",
       "    </tr>\n",
       "    <tr>\n",
       "      <th>2</th>\n",
       "      <td>Amador</td>\n",
       "      <td>32867</td>\n",
       "      <td>9264</td>\n",
       "      <td>28.186327</td>\n",
       "      <td>0.780032</td>\n",
       "      <td>305</td>\n",
       "      <td>53</td>\n",
       "      <td>0.17</td>\n",
       "      <td>37</td>\n",
       "      <td>0.12</td>\n",
       "      <td>...</td>\n",
       "      <td>62.26</td>\n",
       "      <td>29.0</td>\n",
       "      <td>78.38</td>\n",
       "      <td>44.0</td>\n",
       "      <td>83.02</td>\n",
       "      <td>24.0</td>\n",
       "      <td>23.0</td>\n",
       "      <td>35.0</td>\n",
       "      <td>66.04</td>\n",
       "      <td>23.0</td>\n",
       "    </tr>\n",
       "    <tr>\n",
       "      <th>3</th>\n",
       "      <td>Butte</td>\n",
       "      <td>217509</td>\n",
       "      <td>95781</td>\n",
       "      <td>44.035419</td>\n",
       "      <td>1.218642</td>\n",
       "      <td>2551</td>\n",
       "      <td>551</td>\n",
       "      <td>0.22</td>\n",
       "      <td>226</td>\n",
       "      <td>0.09</td>\n",
       "      <td>...</td>\n",
       "      <td>60.25</td>\n",
       "      <td>146.0</td>\n",
       "      <td>64.60</td>\n",
       "      <td>453.0</td>\n",
       "      <td>82.21</td>\n",
       "      <td>23.0</td>\n",
       "      <td>22.0</td>\n",
       "      <td>349.0</td>\n",
       "      <td>63.34</td>\n",
       "      <td>23.0</td>\n",
       "    </tr>\n",
       "    <tr>\n",
       "      <th>4</th>\n",
       "      <td>Calaveras</td>\n",
       "      <td>44221</td>\n",
       "      <td>13243</td>\n",
       "      <td>29.947310</td>\n",
       "      <td>0.828766</td>\n",
       "      <td>451</td>\n",
       "      <td>90</td>\n",
       "      <td>0.20</td>\n",
       "      <td>31</td>\n",
       "      <td>0.07</td>\n",
       "      <td>...</td>\n",
       "      <td>66.67</td>\n",
       "      <td>27.0</td>\n",
       "      <td>87.10</td>\n",
       "      <td>81.0</td>\n",
       "      <td>90.00</td>\n",
       "      <td>26.0</td>\n",
       "      <td>24.0</td>\n",
       "      <td>60.0</td>\n",
       "      <td>66.67</td>\n",
       "      <td>24.0</td>\n",
       "    </tr>\n",
       "  </tbody>\n",
       "</table>\n",
       "<p>5 rows × 21 columns</p>\n",
       "</div>"
      ],
      "text/plain": [
       "      county  total_pop  below_200pct_poverty  pct_estimate  \\\n",
       "0    Alameda    1557087                427064     27.427112   \n",
       "1     Alpine       1115                   442     39.641256   \n",
       "2     Amador      32867                  9264     28.186327   \n",
       "3      Butte     217509                 95781     44.035419   \n",
       "4  Calaveras      44221                 13243     29.947310   \n",
       "\n",
       "   pct_above_below_state_est  total_enrollment  SAT_test_takers  pct_took_SAT  \\\n",
       "0                   0.759022             17567             5946          0.34   \n",
       "1                   1.097037                 0                0           NaN   \n",
       "2                   0.780032               305               53          0.17   \n",
       "3                   1.218642              2551              551          0.22   \n",
       "4                   0.828766               451               90          0.20   \n",
       "\n",
       "   ACT_test_takers  pct_took_ACT  ...  pct_pass_SAT_Total  num_pass_ACT_Total  \\\n",
       "0             3630          0.21  ...               58.16              2459.0   \n",
       "1                0           NaN  ...                 NaN                 NaN   \n",
       "2               37          0.12  ...               62.26                29.0   \n",
       "3              226          0.09  ...               60.25               146.0   \n",
       "4               31          0.07  ...               66.67                27.0   \n",
       "\n",
       "   pct_pass_ACT_Total  num_pass_SAT_ERW  pct_pass_SAT_ERW  avg_ACT_Reading  \\\n",
       "0               67.74            4566.0             76.79             25.0   \n",
       "1                 NaN               NaN               NaN              NaN   \n",
       "2               78.38              44.0             83.02             24.0   \n",
       "3               64.60             453.0             82.21             23.0   \n",
       "4               87.10              81.0             90.00             26.0   \n",
       "\n",
       "   avg_ACT_English  num_pass_SAT_Math  pct_pass_SAT_Math  avg_ACT_Math  \n",
       "0             24.0             3623.0              60.93          24.0  \n",
       "1              NaN                NaN                NaN           NaN  \n",
       "2             23.0               35.0              66.04          23.0  \n",
       "3             22.0              349.0              63.34          23.0  \n",
       "4             24.0               60.0              66.67          24.0  \n",
       "\n",
       "[5 rows x 21 columns]"
      ]
     },
     "execution_count": 44,
     "metadata": {},
     "output_type": "execute_result"
    }
   ],
   "source": [
    "ca_tests_and_population_merged.head()"
   ]
  },
  {
   "cell_type": "markdown",
   "metadata": {},
   "source": [
    "---\n",
    "\n",
    "# Custom columns\n",
    "After initial exploratory analysis, it was discovered that it would be helpful to add a few more custom columns to help with grouping data."
   ]
  },
  {
   "cell_type": "markdown",
   "metadata": {},
   "source": [
    "To better understand the regional differences among California's numerous counties, I decided to load the Census categorical data on subregion, which can be found at: https://census.ca.gov/regions/_."
   ]
  },
  {
   "cell_type": "code",
   "execution_count": 45,
   "metadata": {},
   "outputs": [],
   "source": [
    "def find_region(value):\n",
    "    \n",
    "    superior = ['Butte', 'Colusa', 'El Dorado', 'Glenn', 'Lassen', 'Modoc', 'Nevada', 'Placer', 'Plumas',\n",
    "            'Sacramento', 'Shasta', 'Sierra', 'Siskiyou', 'Sutter', 'Tehama', 'Yolo', 'Yuba']\n",
    "    north_coast = ['Del Norte', 'Humboldt', 'Lake', 'Mendocino', 'Napa', 'Sonoma', 'Trinity']\n",
    "    bay_area = ['Alameda', 'Contra Costa', 'Marin', 'San Francisco', 'San Mateo', 'Santa Clara', 'Solano']\n",
    "    northern_valley = ['Alpine', 'Amador', 'Calaveras', 'Madera', 'Mariposa', 'Merced', 'Mono',\n",
    "                       'San Joaquin', 'Stanislaus', 'Tuolumne']\n",
    "    central_coast = ['Monterey', 'San Benito', 'San Luis Obispo', 'Santa Barbara', 'Santa Cruz', 'Ventura']\n",
    "    southern_valley = ['Fresno', 'Inyo', 'Kern', 'Kings', 'Tulare']\n",
    "    southern_california = ['Riverside', 'San Bernardino', 'Los Angeles', 'Orange', 'Imperial', 'San Diego']\n",
    "\n",
    "    if value in superior:\n",
    "        return 'superior'\n",
    "    elif value in north_coast:\n",
    "        return 'n_coast'\n",
    "    elif value in bay_area:\n",
    "        return 'bay_area'\n",
    "    elif value in northern_valley:\n",
    "        return 'n_valley'\n",
    "    elif value in central_coast:\n",
    "        return 'cen_coast'\n",
    "    elif value in southern_valley:\n",
    "        return 's_valley'\n",
    "    elif value in southern_california:\n",
    "        return 'so_cal'\n",
    "    else:\n",
    "        return ''"
   ]
  },
  {
   "cell_type": "code",
   "execution_count": 46,
   "metadata": {},
   "outputs": [],
   "source": [
    "# Map counties in County column to respective region catgeory\n",
    "ca_tests_and_population_merged.insert(1, 'region', ca_tests_and_population_merged['county'].map(find_region))"
   ]
  },
  {
   "cell_type": "code",
   "execution_count": 47,
   "metadata": {},
   "outputs": [],
   "source": [
    "# Create boolean values if total population of county is over 900,000 or less than 75,000\n",
    "# This results in a Top 10 and Bottom 20 subgroup of counties\n",
    "ca_tests_and_population_merged.insert(2, 'isTop10', (ca_tests_and_population_merged['total_pop']>900_000)*1)\n",
    "ca_tests_and_population_merged.insert(3, 'isBottom20', (ca_tests_and_population_merged['total_pop']<75_000)*1)"
   ]
  },
  {
   "cell_type": "code",
   "execution_count": 48,
   "metadata": {},
   "outputs": [],
   "source": [
    "# Calculate new column 'total_test_takers' that is the sum of the total number of ACT & SAT test takers\n",
    "ca_tests_and_population_merged.insert(9, 'total_test_takers', ca_tests_and_population_merged['SAT_test_takers']+ca_tests_and_population_merged['ACT_test_takers'])"
   ]
  },
  {
   "cell_type": "code",
   "execution_count": 49,
   "metadata": {},
   "outputs": [],
   "source": [
    "# Create new column that divides total test takers by enrollment\n",
    "ca_tests_and_population_merged.insert(10, 'pct_test_takers', ca_tests_and_population_merged['total_test_takers'] / ca_tests_and_population_merged['total_enrollment'])"
   ]
  },
  {
   "cell_type": "markdown",
   "metadata": {},
   "source": [
    "Let's check those new columns."
   ]
  },
  {
   "cell_type": "code",
   "execution_count": 50,
   "metadata": {},
   "outputs": [
    {
     "data": {
      "text/html": [
       "<div>\n",
       "<style scoped>\n",
       "    .dataframe tbody tr th:only-of-type {\n",
       "        vertical-align: middle;\n",
       "    }\n",
       "\n",
       "    .dataframe tbody tr th {\n",
       "        vertical-align: top;\n",
       "    }\n",
       "\n",
       "    .dataframe thead th {\n",
       "        text-align: right;\n",
       "    }\n",
       "</style>\n",
       "<table border=\"1\" class=\"dataframe\">\n",
       "  <thead>\n",
       "    <tr style=\"text-align: right;\">\n",
       "      <th></th>\n",
       "      <th>county</th>\n",
       "      <th>total_enrollment</th>\n",
       "      <th>total_test_takers</th>\n",
       "      <th>pct_test_takers</th>\n",
       "    </tr>\n",
       "  </thead>\n",
       "  <tbody>\n",
       "    <tr>\n",
       "      <th>54</th>\n",
       "      <td>Tuolumne</td>\n",
       "      <td>518</td>\n",
       "      <td>103</td>\n",
       "      <td>0.198842</td>\n",
       "    </tr>\n",
       "    <tr>\n",
       "      <th>55</th>\n",
       "      <td>Ventura</td>\n",
       "      <td>10750</td>\n",
       "      <td>6086</td>\n",
       "      <td>0.566140</td>\n",
       "    </tr>\n",
       "    <tr>\n",
       "      <th>56</th>\n",
       "      <td>Yolo</td>\n",
       "      <td>2299</td>\n",
       "      <td>1114</td>\n",
       "      <td>0.484559</td>\n",
       "    </tr>\n",
       "    <tr>\n",
       "      <th>57</th>\n",
       "      <td>Yuba</td>\n",
       "      <td>977</td>\n",
       "      <td>242</td>\n",
       "      <td>0.247697</td>\n",
       "    </tr>\n",
       "  </tbody>\n",
       "</table>\n",
       "</div>"
      ],
      "text/plain": [
       "      county  total_enrollment  total_test_takers  pct_test_takers\n",
       "54  Tuolumne               518                103         0.198842\n",
       "55   Ventura             10750               6086         0.566140\n",
       "56      Yolo              2299               1114         0.484559\n",
       "57      Yuba               977                242         0.247697"
      ]
     },
     "execution_count": 50,
     "metadata": {},
     "output_type": "execute_result"
    }
   ],
   "source": [
    "ca_tests_and_population_merged.iloc[:, [0, 8, 9, 10]].tail(4)"
   ]
  },
  {
   "cell_type": "code",
   "execution_count": 51,
   "metadata": {},
   "outputs": [
    {
     "data": {
      "text/plain": [
       "Index(['county', 'region', 'isTop10', 'isBottom20', 'total_pop',\n",
       "       'below_200pct_poverty', 'pct_estimate', 'pct_above_below_state_est',\n",
       "       'total_enrollment', 'total_test_takers', 'pct_test_takers',\n",
       "       'SAT_test_takers', 'pct_took_SAT', 'ACT_test_takers', 'pct_took_ACT',\n",
       "       'num_pass_SAT_Total', 'pct_pass_SAT_Total', 'num_pass_ACT_Total',\n",
       "       'pct_pass_ACT_Total', 'num_pass_SAT_ERW', 'pct_pass_SAT_ERW',\n",
       "       'avg_ACT_Reading', 'avg_ACT_English', 'num_pass_SAT_Math',\n",
       "       'pct_pass_SAT_Math', 'avg_ACT_Math'],\n",
       "      dtype='object')"
      ]
     },
     "execution_count": 51,
     "metadata": {},
     "output_type": "execute_result"
    }
   ],
   "source": [
    "ca_tests_and_population_merged.columns"
   ]
  },
  {
   "cell_type": "markdown",
   "metadata": {},
   "source": [
    "Now we're ready to save our final dataset to a new .csv file!!"
   ]
  },
  {
   "cell_type": "code",
   "execution_count": 53,
   "metadata": {},
   "outputs": [],
   "source": [
    "ca_tests_and_population_merged.to_csv('../data/ca_tests_and_population_merged.csv')"
   ]
  },
  {
   "cell_type": "code",
   "execution_count": null,
   "metadata": {},
   "outputs": [],
   "source": []
  }
 ],
 "metadata": {
  "kernelspec": {
   "display_name": "Python 3",
   "language": "python",
   "name": "python3"
  },
  "language_info": {
   "codemirror_mode": {
    "name": "ipython",
    "version": 3
   },
   "file_extension": ".py",
   "mimetype": "text/x-python",
   "name": "python",
   "nbconvert_exporter": "python",
   "pygments_lexer": "ipython3",
   "version": "3.8.5"
  }
 },
 "nbformat": 4,
 "nbformat_minor": 4
}
